{
 "cells": [
  {
   "cell_type": "code",
   "execution_count": null,
   "metadata": {
    "collapsed": false
   },
   "outputs": [],
   "source": [
    "import os\n",
    "import openmsi\n",
    "import requests, json\n",
    "import numpy as np\n",
    "import getpass"
   ]
  },
  {
   "cell_type": "markdown",
   "metadata": {
    "collapsed": false
   },
   "source": [
    "# Authenticate to NERSC"
   ]
  },
  {
   "cell_type": "code",
   "execution_count": null,
   "metadata": {
    "collapsed": false
   },
   "outputs": [],
   "source": [
    "print 'enter your nersc password'\n",
    "client = requests.Session()\n",
    "client = openmsi.authenticateUser(client,getpass.getuser())\n",
    "my_files = openmsi.getFilelist(client)"
   ]
  },
  {
   "cell_type": "markdown",
   "metadata": {},
   "source": [
    "# Print a list of all your files"
   ]
  },
  {
   "cell_type": "code",
   "execution_count": null,
   "metadata": {
    "collapsed": false
   },
   "outputs": [],
   "source": [
    "##### Test that we are authenticated #####\n",
    "##### by printing a list of files #####\n",
    "##### you have access to #####\n",
    "# for k in my_files:\n",
    "#     print k"
   ]
  },
  {
   "cell_type": "markdown",
   "metadata": {},
   "source": [
    "# Select specific files using a keyword"
   ]
  },
  {
   "cell_type": "code",
   "execution_count": null,
   "metadata": {
    "collapsed": false
   },
   "outputs": [],
   "source": [
    "# selected_files = [file for file in my_files if 'orfj' in file.lower()]\n",
    "selected_files = [file for file in my_files if 'orfj' in file.lower()]\n",
    "selected_files"
   ]
  },
  {
   "cell_type": "markdown",
   "metadata": {},
   "source": [
    "# Specify ions and tolerance in Daltons"
   ]
  },
  {
   "cell_type": "code",
   "execution_count": null,
   "metadata": {
    "collapsed": true
   },
   "outputs": [],
   "source": [
    "selected_ions = [389.1 ,409.1, 824.5, 298.4]\n",
    "mass_range = 0.4"
   ]
  },
  {
   "cell_type": "markdown",
   "metadata": {},
   "source": [
    "# Make a file 'images.tar.gz' containing images for each ion in each file"
   ]
  },
  {
   "cell_type": "code",
   "execution_count": null,
   "metadata": {
    "collapsed": false
   },
   "outputs": [],
   "source": [
    "for f in selected_files:\n",
    "    mz_axis = openmsi.getMZ(client,f)\n",
    "    for ion in selected_ions:\n",
    "        image = openmsi.getArrayedImage(client,ion,mass_range,mz_axis,f)\n",
    "        outdir = 'images'\n",
    "        if not os.path.isdir(outdir):\n",
    "            os.mkdir(outdir)\n",
    "        outbase = '%5.3f_%s'%(ion,os.path.basename(f).split('.')[0])\n",
    "        outbase = outbase.replace('.','p')\n",
    "        outfile = os.path.join(outdir,outbase+'.png')\n",
    "        print outfile\n",
    "        openmsi.saveImageToFile(image,outfile)\n",
    "\n",
    "# %system tar -zcf images.tar.gz $outdir"
   ]
  },
  {
   "cell_type": "code",
   "execution_count": null,
   "metadata": {
    "collapsed": true
   },
   "outputs": [],
   "source": []
  }
 ],
 "metadata": {
  "anaconda-cloud": {},
  "kernelspec": {
   "display_name": "MetAtlas 2.7",
   "language": "python",
   "name": "metatlas"
  },
  "language_info": {
   "codemirror_mode": {
    "name": "ipython",
    "version": 2
   },
   "file_extension": ".py",
   "mimetype": "text/x-python",
   "name": "python",
   "nbconvert_exporter": "python",
   "pygments_lexer": "ipython2",
   "version": "2.7.13"
  }
 },
 "nbformat": 4,
 "nbformat_minor": 0
}
