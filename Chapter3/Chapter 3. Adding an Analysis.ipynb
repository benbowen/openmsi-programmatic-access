{
 "metadata": {
  "name": "",
  "signature": "sha256:62577eb5d301ba7819aaa65a3675b5241b70f8911a355c1a3de287f20f8480a8"
 },
 "nbformat": 3,
 "nbformat_minor": 0,
 "worksheets": [
  {
   "cells": [
    {
     "cell_type": "code",
     "collapsed": false,
     "input": [
      "Adding "
     ],
     "language": "python",
     "metadata": {},
     "outputs": []
    }
   ],
   "metadata": {}
  }
 ]
}