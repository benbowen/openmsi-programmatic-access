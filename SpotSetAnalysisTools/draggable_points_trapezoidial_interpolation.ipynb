{
 "metadata": {
  "name": "",
  "signature": "sha256:0a782f77a287cd3c66c64a33368ef80d3637215cd9f1452feed0aeda83b20ee3"
 },
 "nbformat": 3,
 "nbformat_minor": 0,
 "worksheets": [
  {
   "cells": [
    {
     "cell_type": "code",
     "collapsed": false,
     "input": [
      "import numpy as np\n",
      "from scipy import interpolate\n",
      "import matplotlib.pyplot as plt\n",
      "import matplotlib.patches as patches\n",
      "import ast\n",
      "import requests, json\n",
      "import getpass\n",
      "import sys\n",
      "sys.path.append( '/Users/bpb/Data/programming/OpenMSI/openmsi-programmatic-access/' )\n",
      "import openmsi\n",
      "import openmsi_spotset_tools\n",
      "# plt.get_backend()\n",
      "# plt.switch_backend('Qt4Agg')\n",
      "client = requests.Session()"
     ],
     "language": "python",
     "metadata": {},
     "outputs": [],
     "prompt_number": 1
    },
    {
     "cell_type": "code",
     "collapsed": false,
     "input": [
      "username = 'bpb'\n",
      "password = getpass.getpass()\n",
      "authURL = 'https://openmsi.nersc.gov/openmsi/client/login/'\n",
      "# Retrieve the CSRF token first\n",
      "client.get(authURL)  # sets cookie\n",
      "csrftoken = client.cookies['csrftoken']\n",
      "login_data = dict(username=username, password=password, csrfmiddlewaretoken=csrftoken, next='/')\n",
      "r = client.post(authURL, data=login_data, headers=dict(Referer=authURL))\n"
     ],
     "language": "python",
     "metadata": {},
     "outputs": [],
     "prompt_number": 2
    },
    {
     "cell_type": "code",
     "collapsed": false,
     "input": [
      "# Test that we are authenticated by printing a list of files we have access to\n",
      "myFiles = openmsi.getFilelist(client)\n",
      "for k in myFiles:\n",
      "    print k"
     ],
     "language": "python",
     "metadata": {},
     "outputs": []
    },
    {
     "cell_type": "code",
     "collapsed": false,
     "input": [
      "filename = '/project/projectdirs/openmsi/omsi_data_private/bpb/20120913_nimzyme.h5'\n",
      "dataIndex = '0'\n",
      "expIndex = '0'\n",
      "payload = {'file':filename,'format':'JSON','mtype':'file','expIndex':expIndex,'dataIndex':dataIndex}\n",
      "url = 'https://openmsi.nersc.gov/openmsi/qmetadata'\n",
      "r = client.get(url,params=payload)\n",
      "metadata = json.loads(r.content)\n",
      "originalSize = ast.literal_eval(metadata[u'children'][0][u'shape'])\n",
      "print originalSize"
     ],
     "language": "python",
     "metadata": {},
     "outputs": [
      {
       "output_type": "stream",
       "stream": "stdout",
       "text": [
        "(107, 153, 37805)\n"
       ]
      }
     ],
     "prompt_number": 4
    },
    {
     "cell_type": "code",
     "collapsed": false,
     "input": [
      "mz = openmsi.getMZ(client,filename,expIndex,dataIndex)"
     ],
     "language": "python",
     "metadata": {},
     "outputs": [],
     "prompt_number": 8
    },
    {
     "cell_type": "code",
     "collapsed": false,
     "input": [
      "myIons = [1241.25, 917.5, 817.6]\n",
      "myRange = 0.35 # integrate at +/- this amount\n",
      "imStack = np.zeros((originalSize[0],originalSize[1],len(myIons)))\n",
      "for i,ion in enumerate(myIons):\n",
      "    idx = np.where(abs(mz-ion)<myRange)\n",
      "    payload = {'file':filename,\n",
      "               'expIndex':expIndex,'dataIndex':dataIndex,'format':'JSON','mz':'%d:%d'%(min(idx[0]),max(idx[0]))}\n",
      "    url = 'https://openmsi.nersc.gov/openmsi/qcube'\n",
      "    r = client.get(url,params=payload)\n",
      "    data = np.asarray(json.loads(r.content))\n",
      "    imStack[:,:,i] = np.sum(data,2)"
     ],
     "language": "python",
     "metadata": {},
     "outputs": [],
     "prompt_number": 9
    },
    {
     "cell_type": "code",
     "collapsed": false,
     "input": [
      "baseImage = np.sum(imStack,2)\n",
      "plt.imshow(baseImage,cmap='CMRmap')\n",
      "plt.show()"
     ],
     "language": "python",
     "metadata": {},
     "outputs": [],
     "prompt_number": 10
    },
    {
     "cell_type": "markdown",
     "metadata": {},
     "source": [
      "Set the circles where they need to be.  Then close the figure window. The last coordinates of the circles will be stored and you use them to study the interior points of your trapezoid."
     ]
    },
    {
     "cell_type": "code",
     "collapsed": false,
     "input": [
      "Nrows = 24\n",
      "Ncols = 16\n",
      "dragRadius = 4\n",
      "pointMarkerSize = 12\n",
      "xRough,yRough = openmsi_spotset_tools.roughPosition(baseImage,Nrows,Ncols,dragRadius,pointMarkerSize)"
     ],
     "language": "python",
     "metadata": {},
     "outputs": [],
     "prompt_number": 11
    },
    {
     "cell_type": "code",
     "collapsed": false,
     "input": [
      "markerRadius = 2\n",
      "xFinal,yFinal = openmsi_spotset_tools.fineTunePosition(baseImage,xRough,yRough,markerRadius)"
     ],
     "language": "python",
     "metadata": {},
     "outputs": [],
     "prompt_number": 12
    },
    {
     "cell_type": "code",
     "collapsed": false,
     "input": [],
     "language": "python",
     "metadata": {},
     "outputs": []
    }
   ],
   "metadata": {}
  }
 ]
}