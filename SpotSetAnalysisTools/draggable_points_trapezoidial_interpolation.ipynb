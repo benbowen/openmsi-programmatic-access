{
 "cells": [
  {
   "cell_type": "code",
   "execution_count": null,
   "metadata": {
    "collapsed": false
   },
   "outputs": [],
   "source": [
    "import numpy as np\n",
    "from scipy import interpolate\n",
    "import matplotlib.pyplot as plt\n",
    "import matplotlib.patches as patches\n",
    "import ast\n",
    "import requests, json\n",
    "import sys\n",
    "sys.path.append( '/Users/bpb/Data/programming/OpenMSI/openmsi-programmatic-access/' )\n",
    "import openmsi\n",
    "import openmsi_spotset_tools\n",
    "# plt.get_backend()\n",
    "# plt.switch_backend('Qt4Agg')\n",
    "client = requests.Session()"
   ]
  },
  {
   "cell_type": "code",
   "execution_count": null,
   "metadata": {
    "collapsed": false
   },
   "outputs": [],
   "source": [
    "# WHEN THIS BLOCK RUNS, YOU WILL HAVE TO ENTER YOUR PASSWORD INTO THE TERMINAL\n",
    "client = openmsi.authenticateUser(client,'username')\n",
    "# Test that we are authenticated by printing a list of files we have access to\n",
    "myFiles = openmsi.getFilelist(client)\n",
    "for k in myFiles:\n",
    "    print k"
   ]
  },
  {
   "cell_type": "code",
   "execution_count": null,
   "metadata": {
    "collapsed": false
   },
   "outputs": [],
   "source": [
    "# myIons = [1241.25, 917.5, 817.6]\n",
    "myIons = [2093.1, 2465.2, 2867.0, 3494.7, 3657.9, 5735.0]\n",
    "myRange = 0.5 # integrate at +/- this amount\n",
    "# filename = '/project/projectdirs/openmsi/omsi_data_private/bpb/20120913_nimzyme.h5'\n",
    "filename = '/project/projectdirs/openmsi/omsi_data_private/raad0102/20150331MdR_MALDI-NIMS_1.h5'\n",
    "dataIndex = '0'\n",
    "expIndex = '0'\n",
    "payload = {'file':filename,'format':'JSON','mtype':'file','expIndex':expIndex,'dataIndex':dataIndex}\n",
    "url = 'https://openmsi.nersc.gov/openmsi/qmetadata'\n",
    "r = client.get(url,params=payload)\n",
    "metadata = json.loads(r.content)\n",
    "originalSize = ast.literal_eval(metadata[u'children'][0][u'shape'])\n",
    "print originalSize\n",
    "\n",
    "mz = openmsi.getMZ(client,filename,expIndex,dataIndex)\n",
    "imStack = np.zeros((originalSize[0],originalSize[1],len(myIons)))\n",
    "for i,ion in enumerate(myIons):\n",
    "    idx = np.where(abs(mz-ion)<myRange)\n",
    "    payload = {'file':filename,\n",
    "               'expIndex':expIndex,'dataIndex':dataIndex,'format':'JSON','mz':'%d:%d'%(min(idx[0]),max(idx[0]))}\n",
    "    url = 'https://openmsi.nersc.gov/openmsi/qcube'\n",
    "    r = client.get(url,params=payload)\n",
    "    data = np.asarray(json.loads(r.content))\n",
    "    imStack[:,:,i] = np.sum(data,2)\n",
    "\n",
    "baseImage = np.sum(imStack,2)\n",
    "plt.imshow(baseImage,cmap='CMRmap')\n",
    "plt.show()"
   ]
  },
  {
   "cell_type": "markdown",
   "metadata": {},
   "source": [
    "Set the circles where they need to be.  Then close the figure window. The last coordinates of the circles will be stored and you use them to study the interior points of your trapezoid."
   ]
  },
  {
   "cell_type": "code",
   "execution_count": null,
   "metadata": {
    "collapsed": false
   },
   "outputs": [],
   "source": [
    "Nrows = 12\n",
    "Ncols = 2\n",
    "dragRadius = 4\n",
    "pointMarkerSize = 12\n",
    "xCenter,yCenter = openmsi_spotset_tools.roughPosition(baseImage,Nrows,Ncols,dragRadius,pointMarkerSize)"
   ]
  },
  {
   "cell_type": "code",
   "execution_count": null,
   "metadata": {
    "collapsed": false
   },
   "outputs": [],
   "source": [
    "markerRadius = 2\n",
    "xCenter,yCenter = openmsi_spotset_tools.fineTunePosition(baseImage,xCenter,yCenter,markerRadius)"
   ]
  },
  {
   "cell_type": "code",
   "execution_count": null,
   "metadata": {
    "collapsed": false
   },
   "outputs": [],
   "source": [
    "# Save a dictionary into a pickle file.\n",
    "\n",
    "import pickle\n",
    "\n",
    "spotset_data = {'xCenter':xCenter,'yCenter':yCenter,\n",
    "            'Nrows':Nrows,'Ncols':Ncols,\n",
    "            'dragRadius':dragRadius,'pointMarkerSize':pointMarkerSize,'markerRadius':markerRadius,\n",
    "            'baseImage':baseImage,'imStack':imStack,'myIons':myIons,'myRange':myRange,'mz':mz,'originalSize':originalSize,\n",
    "            'filename':filename,'expIndex':expIndex,'dataIndex':dataIndex}\n",
    "\n",
    "pickle.dump( spotset_data, open( \"myWorkspace.pkl\", \"wb\" ) )"
   ]
  },
  {
   "cell_type": "code",
   "execution_count": null,
   "metadata": {
    "collapsed": false
   },
   "outputs": [],
   "source": [
    "# Load the dictionary back from the pickle file.\n",
    "import pickle\n",
    "\n",
    "spotset_data = pickle.load( open( \"myWorkspace.pkl\", \"rb\" ) )\n",
    "for key in spotset_data:\n",
    "    globals()[key]=spotset_data[key]"
   ]
  },
  {
   "cell_type": "code",
   "execution_count": null,
   "metadata": {
    "collapsed": false
   },
   "outputs": [],
   "source": [
    "xEdges, yEdges = np.meshgrid(range(imStack.shape[1]), range(imStack.shape[0]), sparse=False, indexing='xy')\n",
    "mask = np.zeros(baseImage.shape)\n",
    "integrationRadius = 6 #distance to integrate\n",
    "myPixels = []\n",
    "for x,y in zip(xCenter,yCenter):\n",
    "    idx = np.argwhere(((x - xEdges)**2 + (y - yEdges)**2)**0.5 < integrationRadius)\n",
    "    myPixels.append(idx)\n",
    "    for i in idx:\n",
    "        mask[i[0],i[1]] = 1\n",
    "plt.imshow(mask)\n",
    "plt.show()\n",
    "    "
   ]
  },
  {
   "cell_type": "code",
   "execution_count": null,
   "metadata": {
    "collapsed": false
   },
   "outputs": [],
   "source": [
    "minIntensity = 200"
   ]
  },
  {
   "cell_type": "code",
   "execution_count": null,
   "metadata": {
    "collapsed": false
   },
   "outputs": [],
   "source": [
    "fid = open('export.tab','wb')\n",
    "fid.write('index\\tfile\\trow\\tcolumn\\trow-centroid\\tcol-centroid\\t')\n",
    "for i in myIons:\n",
    "    fid.write('%5.4f Sum\\t' % i)\n",
    "    fid.write('%5.4f Max\\t' % i)\n",
    "    fid.write('%5.4f Mean\\t' % i)\n",
    "    fid.write('%5.4f Median\\t' % i)\n",
    "    fid.write('%5.4f NumPixels\\t' % i)\n",
    "fid.write('\\n')\n",
    "\n",
    "for i,myPixel in enumerate(myPixels):\n",
    "    fid.write('%d\\t%s\\t%s\\t%s\\t%d\\t%d\\t' % ( i, filename, 'coming_soon', 'coming_soon', np.mean(myPixel[:,0]), np.mean(myPixel[:,1]) ) )\n",
    "    for i,ion in enumerate(myIons):\n",
    "        values = []\n",
    "        for j, coord in enumerate(myPixel):\n",
    "            if imStack[coord[0],coord[1],i] > minIntensity:\n",
    "                values.append(imStack[coord[0],coord[1],i])\n",
    "        fid.write('%d\\t%d\\t%d\\t%d\\t%d\\t' % (np.sum(values),np.max(values),np.mean(values),np.median(values),len(values)))\n",
    "        \n",
    "    fid.write('\\n')\n",
    "fid.close()"
   ]
  },
  {
   "cell_type": "code",
   "execution_count": null,
   "metadata": {
    "collapsed": true
   },
   "outputs": [],
   "source": []
  }
 ],
 "metadata": {
  "kernelspec": {
   "display_name": "Python 2",
   "language": "python",
   "name": "python2"
  },
  "language_info": {
   "codemirror_mode": {
    "name": "ipython",
    "version": 2
   },
   "file_extension": ".py",
   "mimetype": "text/x-python",
   "name": "python",
   "nbconvert_exporter": "python",
   "pygments_lexer": "ipython2",
   "version": "2.7.9"
  }
 },
 "nbformat": 4,
 "nbformat_minor": 0
}
