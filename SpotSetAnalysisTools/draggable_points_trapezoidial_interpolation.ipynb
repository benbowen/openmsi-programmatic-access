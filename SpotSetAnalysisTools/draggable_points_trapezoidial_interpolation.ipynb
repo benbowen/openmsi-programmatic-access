{
 "metadata": {
  "name": "",
  "signature": "sha256:c2faf3e96bb00854a0c6dfbc015cf279d02b7b0d019628e2c15bf3b44be5871b"
 },
 "nbformat": 3,
 "nbformat_minor": 0,
 "worksheets": [
  {
   "cells": [
    {
     "cell_type": "code",
     "collapsed": false,
     "input": [
      "import numpy as np\n",
      "from scipy import interpolate\n",
      "import matplotlib.pyplot as plt\n",
      "import matplotlib.patches as patches\n",
      "import ast\n",
      "import requests, json\n",
      "import sys\n",
      "sys.path.append( '/Users/bpb/Data/programming/OpenMSI/openmsi-programmatic-access/' )\n",
      "import openmsi\n",
      "import openmsi_spotset_tools\n",
      "# plt.get_backend()\n",
      "# plt.switch_backend('Qt4Agg')\n",
      "client = requests.Session()"
     ],
     "language": "python",
     "metadata": {},
     "outputs": [],
     "prompt_number": 16
    },
    {
     "cell_type": "code",
     "collapsed": false,
     "input": [
      "# WHEN THIS BLOCK RUNS, YOU WILL HAVE TO ENTER YOUR PASSWORD INTO THE TERMINAL\n",
      "client = openmsi.authenticateUser(client,'bpb')\n",
      "# Test that we are authenticated by printing a list of files we have access to\n",
      "myFiles = openmsi.getFilelist(client)\n",
      "for k in myFiles:\n",
      "    print k"
     ],
     "language": "python",
     "metadata": {},
     "outputs": []
    },
    {
     "cell_type": "code",
     "collapsed": false,
     "input": [
      "myIons = [1241.25, 917.5, 817.6]\n",
      "myRange = 0.35 # integrate at +/- this amount\n",
      "filename = '/project/projectdirs/openmsi/omsi_data_private/bpb/20120913_nimzyme.h5'\n",
      "dataIndex = '0'\n",
      "expIndex = '0'\n",
      "payload = {'file':filename,'format':'JSON','mtype':'file','expIndex':expIndex,'dataIndex':dataIndex}\n",
      "url = 'https://openmsi.nersc.gov/openmsi/qmetadata'\n",
      "r = client.get(url,params=payload)\n",
      "metadata = json.loads(r.content)\n",
      "originalSize = ast.literal_eval(metadata[u'children'][0][u'shape'])\n",
      "print originalSize\n",
      "\n",
      "mz = openmsi.getMZ(client,filename,expIndex,dataIndex)\n",
      "imStack = np.zeros((originalSize[0],originalSize[1],len(myIons)))\n",
      "for i,ion in enumerate(myIons):\n",
      "    idx = np.where(abs(mz-ion)<myRange)\n",
      "    payload = {'file':filename,\n",
      "               'expIndex':expIndex,'dataIndex':dataIndex,'format':'JSON','mz':'%d:%d'%(min(idx[0]),max(idx[0]))}\n",
      "    url = 'https://openmsi.nersc.gov/openmsi/qcube'\n",
      "    r = client.get(url,params=payload)\n",
      "    data = np.asarray(json.loads(r.content))\n",
      "    imStack[:,:,i] = np.sum(data,2)\n",
      "\n",
      "baseImage = np.sum(imStack,2)\n",
      "plt.imshow(baseImage,cmap='CMRmap')\n",
      "plt.show()"
     ],
     "language": "python",
     "metadata": {},
     "outputs": [
      {
       "output_type": "stream",
       "stream": "stdout",
       "text": [
        "(107, 153, 37805)\n"
       ]
      }
     ],
     "prompt_number": 18
    },
    {
     "cell_type": "markdown",
     "metadata": {},
     "source": [
      "Set the circles where they need to be.  Then close the figure window. The last coordinates of the circles will be stored and you use them to study the interior points of your trapezoid."
     ]
    },
    {
     "cell_type": "code",
     "collapsed": false,
     "input": [
      "Nrows = 3\n",
      "Ncols = 2\n",
      "dragRadius = 4\n",
      "pointMarkerSize = 12\n",
      "xCenter,yCenter = openmsi_spotset_tools.roughPosition(baseImage,Nrows,Ncols,dragRadius,pointMarkerSize)"
     ],
     "language": "python",
     "metadata": {},
     "outputs": [],
     "prompt_number": 88
    },
    {
     "cell_type": "code",
     "collapsed": false,
     "input": [
      "markerRadius = 2\n",
      "xCenter,yCenter = openmsi_spotset_tools.fineTunePosition(baseImage,xCenter,yCenter,markerRadius)"
     ],
     "language": "python",
     "metadata": {},
     "outputs": [],
     "prompt_number": 89
    },
    {
     "cell_type": "code",
     "collapsed": false,
     "input": [
      "# Save a dictionary into a pickle file.\n",
      "\n",
      "import pickle\n",
      "\n",
      "spotset_data = {'xCenter':xCenter,'yCenter':yCenter,\n",
      "            'Nrows':Nrows,'Ncols':Ncols,\n",
      "            'dragRadius':dragRadius,'pointMarkerSize':pointMarkerSize,'markerRadius':markerRadius,\n",
      "            'baseImage':baseImage,'imStack':imStack,'myIons':myIons,'myRange':myRange,'mz':mz,'originalSize':originalSize,\n",
      "            'filename':filename,'expIndex':expIndex,'dataIndex':dataIndex}\n",
      "\n",
      "pickle.dump( spotset_data, open( \"myWorkspace.pkl\", \"wb\" ) )"
     ],
     "language": "python",
     "metadata": {},
     "outputs": [],
     "prompt_number": 90
    },
    {
     "cell_type": "code",
     "collapsed": false,
     "input": [
      "# Load the dictionary back from the pickle file.\n",
      "import pickle\n",
      "\n",
      "spotset_data = pickle.load( open( \"myWorkspace.pkl\", \"rb\" ) )\n",
      "for key in spotset_data:\n",
      "    globals()[key]=spotset_data[key]"
     ],
     "language": "python",
     "metadata": {},
     "outputs": [],
     "prompt_number": 95
    },
    {
     "cell_type": "code",
     "collapsed": false,
     "input": [
      "xEdges, yEdges = np.meshgrid(range(imStack.shape[1]), range(imStack.shape[0]), sparse=False, indexing='xy')\n",
      "mask = np.zeros(baseImage.shape)\n",
      "integrationRadius = 2 #distance to integrate\n",
      "myPixels = []\n",
      "for x,y in zip(xCenter,yCenter):\n",
      "    idx = np.argwhere(((x - xEdges)**2 + (y - yEdges)**2)**0.5 < integrationRadius)\n",
      "    myPixels.append(idx)\n",
      "    for i in idx:\n",
      "        mask[i[0],i[1]] = 1\n",
      "plt.imshow(mask)\n",
      "plt.show()\n",
      "    "
     ],
     "language": "python",
     "metadata": {},
     "outputs": [],
     "prompt_number": 96
    },
    {
     "cell_type": "code",
     "collapsed": false,
     "input": [
      "minIntensity = 100"
     ],
     "language": "python",
     "metadata": {},
     "outputs": [],
     "prompt_number": 93
    },
    {
     "cell_type": "code",
     "collapsed": false,
     "input": [
      "fid = open('export.tab','wb')\n",
      "fid.write('index\\tfile\\trow\\tcolumn\\trow-centroid\\tcol-centroid\\t')\n",
      "for i in myIons:\n",
      "    fid.write('%5.4f Sum\\t' % i)\n",
      "    fid.write('%5.4f Max\\t' % i)\n",
      "    fid.write('%5.4f Mean\\t' % i)\n",
      "    fid.write('%5.4f Median\\t' % i)\n",
      "    fid.write('%5.4f NumPixels\\t' % i)\n",
      "fid.write('\\n')\n",
      "\n",
      "for i,myPixel in enumerate(myPixels):\n",
      "    fid.write('%d\\t%s\\t%s\\t%s\\t%d\\t%d\\t' % ( i, filename, 'coming_soon', 'coming_soon', np.mean(myPixel[:,0]), np.mean(myPixel[:,1]) ) )\n",
      "    values = []\n",
      "    for i,ion in enumerate(myIons):\n",
      "        for j, coord in enumerate(myPixel):\n",
      "            if imStack[coord[0],coord[1],i] > minIntensity:\n",
      "                values.append(imStack[coord[0],coord[1],i])\n",
      "        fid.write('%d\\t%d\\t%d\\t%d\\t%d\\t' % (np.sum(values),np.max(values),np.mean(values),np.median(values),len(values)))\n",
      "        \n",
      "    fid.write('\\n')\n",
      "fid.close()"
     ],
     "language": "python",
     "metadata": {},
     "outputs": [],
     "prompt_number": 97
    }
   ],
   "metadata": {}
  }
 ]
}