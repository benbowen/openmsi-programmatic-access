{
 "cells": [
  {
   "cell_type": "markdown",
   "metadata": {},
   "source": [
    "<h1>OpenMSI Arrayed Analysis Tool</h1>\n",
    "<h2>Introduction</h2>\n",
    "Mass spectrometry imaging (MSI) enables the mass analysis of thousands of spatially defined samples, and can be applied in the high-throughput screening of, for example, enzyme activity or compound libraries. Here we present the OpenMSI Arrayed Analaysis Tool, an iPython based software tool for the analysis of spatially defined samples with MSI.\n",
    "\n",
    "This tutorial Notebook ([name notebook](link to notebook in reposetory)) will demonstrate the basic features of the OpenMSI Arrayed Analaysis Tool, with step by step guidance on how to run the iPython Notebook. A version without markdown is also available ([name notebook](link to notebook in reposetory)). To complete this tutorial, one would need:\n",
    "<ul>\n",
    "<li>iPython/Jupyter. OpenMSI Arrayed Analaysis Tool requires \\iPyhton version .. Further information on iPython/Jupyter can be found at and http://ipython.org/ </li>\n",
    "<li>An OpenMSI account. Users need to get an OpenMSI account in order to use this tool. An OpenMSI account can be obtained through the OpenMSI team and NERSC (https://openmsi.nersc.gov/openmsi/client/omsiAccount) at no cost.</li>\n",
    "</ul>\n",
    "\n",
    "Users don't have to provide a MSI data file. For this tutorial, we have selected the usage of the [name dataset](link to dataset in openmsi) MSI data set (as used in the [manuscript](link to paper), which is publicly available. "
   ]
  },
  {
   "cell_type": "markdown",
   "metadata": {},
   "source": [
    "<h2>How to use this iPython/Jupyter Notebook</h2>\n",
    "*An interactive demo for new users of iPython/Jupyter notebooks can be found at [Nature](http://www.nature.com/news/ipython-interactive-demo-7.21492)*\n",
    "\n",
    "In this tutorial, there are 2 types of content, namely text and code. This content is placed in boxes called \"cells\". If you click around on this page, you'll see different cells highlighted. To execute each cell (regardless of content), you hit on your keyboard SHIFT+ENTER or press the play button. If the cell contains text, the content will be displayed directly. If the cell contains code, the code will be executed. "
   ]
  },
  {
   "cell_type": "markdown",
   "metadata": {},
   "source": [
    "<h2>Loading Arrayed Analysis Tool</h2>\n",
    "Execute the cell below to load the OpenMSI Arrayed Analysis Tool. \n",
    "<p>_--When succesful, the message \"Completed loading OpenMSI Arrayed Analysis Toolkit\" will appear--_"
   ]
  },
  {
   "cell_type": "code",
   "execution_count": null,
   "metadata": {
    "collapsed": false
   },
   "outputs": [],
   "source": [
    "#load the code. Since it's specialized ipython notebook code, use '%run' rather than 'import'\n",
    "%run Arrayed_Analysis_Tools.ipy"
   ]
  },
  {
   "cell_type": "markdown",
   "metadata": {},
   "source": [
    "<h2>Log into OpenMSI</h2>\n",
    "Execute the cell below. When the cell is executed, the user is asked to put in their NERSC/OpenMSI username. \n",
    "<p>After entering their username, the user is asked to put in their NERSC/OpenMSI password. _--If login is succesful, the message \"Login appears to be successful!\" will appear--_<p>\n",
    "<p> __--Log in is not required for this tutorial. However, in order to analysis the users' own files, logging into OpenMSI is required--__"
   ]
  },
  {
   "cell_type": "code",
   "execution_count": null,
   "metadata": {
    "collapsed": false
   },
   "outputs": [],
   "source": [
    "#log into OpenMSI.nersc.gov\n",
    "openMSIsession = login()"
   ]
  },
  {
   "cell_type": "markdown",
   "metadata": {},
   "source": [
    "<h2>File and ion selection</h2>\n",
    "After a successful login, executing the file selector cell will prompt a list of the users available OpenMSI files. _--If not logged into OpenMSI, only the publicly available OpenMSI files will be displayed, including the file used in this tutorial--_\n",
    "<ul>\n",
    "<li> Next, select the file (name file) by clicking on the file name.\n",
    "<li> Then, put in the corresponding Experiment Index and Data Index to the file you want to analysie. For this tutorial, put in '0' for both indexes. \n",
    "<li> Next, provide the m/z values of the ions for analysis. Insert the m/z value in the 'Add an ion' box, and click the 'Add Ion\" button. The value will appear in the box 'Select which ions you want to load'. For the tutorial, add the following m/z values: ...-... \n",
    "<li> Ions can be removed be first clicking on the m/z value in the 'Select which ions you want to load' box and then on the 'Remove Ion' button.\n",
    "<li> Then, put in the value for the integrate at +/- this amount of the inserted m/z values. Users can choose between 'absolute m/z values' or '% of m/z'. For this tutorial select the 'absolute m/z values' and set it at ... .\n",
    "<li> Last, using the given parameters, a base image has to generated. To do this, the user has to click on the 'Load Image!' button. _--After clicking on the 'Load Image!' button, the line \"Loading image... \" will appear. The progress of loading the separate ions will be displayed, in the form of \"loading ion 1 of x. m/z = x\"--_ ___--When loading has completed, the message \"Image has been loaded.\" will appear--___  \n",
    "<ul>"
   ]
  },
  {
   "cell_type": "code",
   "execution_count": null,
   "metadata": {
    "collapsed": false
   },
   "outputs": [],
   "source": [
    "openMSIsession.imageLoader_with_dialogs() #once loaded the image will be stored in the \"img\" variable"
   ]
  },
  {
   "cell_type": "markdown",
   "metadata": {},
   "source": [
    "<h2>Display base image</h2>\n",
    "In order to display the generated base image, execute the cell below. The base image will be displayed in new window. The base image is the ion-intensity vizualization of all selected ions and will be used for mask placement. \n",
    "<p> _--For this tutorial, this step is optional--_\n",
    "<p>___--In order to continue with running the next cell in the iPython notebook, the base image figure window has to be closed--___\n"
   ]
  },
  {
   "cell_type": "code",
   "execution_count": null,
   "metadata": {
    "collapsed": false
   },
   "outputs": [],
   "source": [
    "plt.imshow(img.baseImage,cmap='jet_r',clim=(0.0,np.amax(img.baseImage)/2)) #get rid of the /2 to see a wider range, or divide\n",
    "                                                                           #by a bigger number if you want a narrower range\n",
    "plt.colorbar()\n",
    "plt.show()"
   ]
  },
  {
   "cell_type": "markdown",
   "metadata": {},
   "source": [
    "<h2>Placing trapezoidal mask</h2>\n",
    "By executing the cell below, a trapezoidal mask containing individual markers will be generated. The size of the trapezoid and the number of markers is determined by number of rows and columns. For this tutorial, generate a trapezoid with # rows and # columns. When the cell is executed, the base image with the trapezoidal mask will be displayed in new window.\n",
    "<p> Then, the trapezoidal mask is roughly placed over the arryaed samples; optimization of positioning of the individual markers will be performed in the next cells. The mask can be moved by dragging the corner markers of the trapezoid (highlighted with red halos) to the prefered position. For this tutorial, place the trapezoidal mask by dragging the corner markers of the trapezoid to the corner samples. Since the top right corner doesn't contain samples, roughly position the top right marker so that the top row and right column markers allign with the samples.\n",
    "<p>__--To continue, the base image figure window has to be closed. The last coordinates of the mask will be stored.--__"
   ]
  },
  {
   "cell_type": "code",
   "execution_count": null,
   "metadata": {
    "collapsed": false
   },
   "outputs": [],
   "source": [
    "#define spot centers as a trapezoid.\n",
    "\n",
    "img.roughPosition_with_dialogs()"
   ]
  },
  {
   "cell_type": "markdown",
   "metadata": {},
   "source": [
    "<h2>Automatic spot optimization</h2>\n",
    "By executing the next cell, the iPython notebook will optimze the marker position. For detials on the optimization algorithm, see the method section in the [manuscript](link to paper).\n",
    "<p>_--After executing the cell, the progress of the optimization will be displayed. When optimization is completed, the message \"optimization routine completed. new spot x and y positions saved.\" will appear--_\n",
    "<p>For this tutorial, perform the automatic spot optimization.\n",
    "<p> _--Performing the spot optimization is optional. Individual markers can be positioned manually in the cell 'Displaying optimized markers(s) positioning'--_"
   ]
  },
  {
   "cell_type": "code",
   "execution_count": null,
   "metadata": {
    "collapsed": false
   },
   "outputs": [],
   "source": [
    "#automagically optimize the spot centers to correspond to the actual spots on the image\n",
    "img.optimizeSpots_with_dialogs()"
   ]
  },
  {
   "cell_type": "markdown",
   "metadata": {},
   "source": [
    "<h2>Displaying optimized marker(s) positioning</h2>\n",
    "In order to view the optimized marker postioning, execute the cell below. The base image will be displayed in new window. Individual markers can be moved by dragging the markers to the preferred postion.\n",
    "<p>If no automatic spot optimization was performed, the trapezoidal mask will be at same postion as it was. Still, individual markers can be moved by dragging the markers to the preferred postion.\n",
    "<p>___--In order to continue with running the next cell in the iPython notebook, the base image figure wondow has to be closed. The last coordinates of the mask will be stored--___"
   ]
  },
  {
   "cell_type": "code",
   "execution_count": null,
   "metadata": {
    "collapsed": false
   },
   "outputs": [],
   "source": [
    "#check the positions of the spots and manually adjust them if need be\n",
    "img.fineTunePosition(colormap='jet_r')"
   ]
  },
  {
   "cell_type": "markdown",
   "metadata": {},
   "source": [
    "<h2>Saving Arrayed Image</h2>\n",
    "If needed, the arrayed image, including the coordinates of the spots, can be stored in a 'pickle' file. First, enter a name between the parentheses, replacing name_pickle_file. Then execute the cell to save the file. \n",
    "<p> _--For this tutorial, saving the mask position is optional--_"
   ]
  },
  {
   "cell_type": "code",
   "execution_count": null,
   "metadata": {
    "collapsed": true
   },
   "outputs": [],
   "source": [
    "#Optional: Save the ArrayedImage into a pickle file.\n",
    "filename=\"name_pickle_file.tab\"\n",
    "import pickle\n",
    "pickle.dump(img, open(filename,\"wb\"))\n",
    "print \"Done saving.\""
   ]
  },
  {
   "cell_type": "markdown",
   "metadata": {},
   "source": [
    "<h2>Loading saved mask position</h2>\n",
    "Saved arrayed images can be loaded from a pickle file. Enter the name of the saved pickle file between the parentheses, replacing name_saved_pickle_file. Then, execute the cell to load the file. \n",
    "<p> _--For this tutorial, this step is optional--_"
   ]
  },
  {
   "cell_type": "code",
   "execution_count": null,
   "metadata": {
    "collapsed": false
   },
   "outputs": [],
   "source": [
    "#Optional: Load an ArrayedImage from a pickle file. This way you can work off-line\n",
    "filename=\"name_pickle_file.tab\"\n",
    "import pickle\n",
    "img=pickle.load(open(filename,\"rb\"))\n",
    "print img"
   ]
  },
  {
   "cell_type": "markdown",
   "metadata": {},
   "source": [
    "<h2>Calculating the spot areas</h2>\n",
    "Execute the cell below, to calculate which pixels belong to which spot. The integration radius of the markers can be adjusted, but if you leave it as-is, the same number you used in the optimization stage will be used.\n",
    "<p>--After executing the cell, the message \"x spots generated. number of spots with N pixels:{x: x, x: x}\" will appear--_"
   ]
  },
  {
   "cell_type": "code",
   "execution_count": null,
   "metadata": {
    "collapsed": false
   },
   "outputs": [],
   "source": [
    "#You'll need to call this function. It returns a list of spots (where each spot is a list of pixels),\n",
    "#which is also stored inside the object.\n",
    "%store -r arrayed_analysis_radius\n",
    "spots=img.generateSpotList(integrationRadius=arrayed_analysis_radius)\n",
    "#this is the same integration radius that you set in the optimization step"
   ]
  },
  {
   "cell_type": "markdown",
   "metadata": {},
   "source": [
    "<h2>Final inspection</h2>\n",
    "A visual representation of the marker size and positioning can be genreated for visiual inspection. To generate the image, execute the cell below. \n",
    "<p> _--For this tutorial, this step is optional--_"
   ]
  },
  {
   "cell_type": "code",
   "execution_count": null,
   "metadata": {
    "collapsed": false
   },
   "outputs": [],
   "source": [
    "#Optional: If you want to see a visual respresenation of which pixels are taken into account when\n",
    "#calculating the result table. If you don't pass it an explicit spotList it will use the stored spotList\n",
    "maskedimg=img.generateMaskedImage()\n",
    "\n",
    "plt.imshow(maskedimg)\n",
    "plt.show()"
   ]
  },
  {
   "cell_type": "markdown",
   "metadata": {},
   "source": [
    "<h2>Saving results into .tab file</h2>\n",
    "The next cell is used to save the results of the arrayed analysis tool as a table into a .tab file. First, enter a name between the parentheses, replacing name_file. Keep the .tab extension. Then execute the cell to save the .tab file.\n",
    "The file will contain a tab-separated file which you could open in Excel to do further data anlysis."
   ]
  },
  {
   "cell_type": "code",
   "execution_count": null,
   "metadata": {
    "collapsed": true
   },
   "outputs": [],
   "source": [
    "#Write results to a file\n",
    "#if you don't pass it an explicit spotList it will use the spot set stored in the ArrayedImage\n",
    "img.writeResultTable(open('name_file.tab','wb'))\n",
    "print \"Done saving to file.\""
   ]
  },
  {
   "cell_type": "markdown",
   "metadata": {},
   "source": [
    "<h2>Using pandas to perform programmatic data analysis</h2>\n",
    "If you prefer to use Pandas over Excel to do data analysis, the resultsDataFrame method returns a Pandas dataframe with the same kind of information that the writeResultTable method gives.\n",
    "In this example, we compute the first ion as a percentage of all ions loaded, and plot those percentages, from small to large, using matplotlib. "
   ]
  },
  {
   "cell_type": "code",
   "execution_count": null,
   "metadata": {
    "collapsed": false
   },
   "outputs": [],
   "source": [
    "df=img.resultsDataFrame(minPixelIntensity=200)\n",
    "sums_df=df.loc[:,(slice(None),'sum')]\n",
    "sums_df.columns = sums_df.columns.get_level_values(0)\n",
    "percentage_firstion=100.0*sums_df[img.ions[0]]/sums_df.sum(axis=1)\n",
    "percentage_firstion.sort_values(inplace=True,ascending=False)\n",
    "plt.bar(range(len(percentage_firstion)),percentage_firstion,edgecolor='b')\n",
    "plt.xlabel('Spot rank')\n",
    "plt.ylabel(\"% m/z={:.1f} of all loaded ions\".format(img.ions[0]))\n",
    "plt.show()\n"
   ]
  }
 ],
 "metadata": {
  "kernelspec": {
   "display_name": "Python 2",
   "language": "python",
   "name": "python2"
  },
  "language_info": {
   "codemirror_mode": {
    "name": "ipython",
    "version": 2
   },
   "file_extension": ".py",
   "mimetype": "text/x-python",
   "name": "python",
   "nbconvert_exporter": "python",
   "pygments_lexer": "ipython2",
   "version": "2.7.11"
  }
 },
 "nbformat": 4,
 "nbformat_minor": 0
}
