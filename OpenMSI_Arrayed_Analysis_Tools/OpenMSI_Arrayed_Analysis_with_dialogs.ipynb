{
 "cells": [
  {
   "cell_type": "markdown",
   "metadata": {},
   "source": [
    "<h1>OpenMSI Arrayed Analysis Tool</h1>\n",
    "<h2>Introduction</h2>\n",
    "Mass spectrometry imaging (MSI) enables the mass analysis of thousands of spatially defined samples, and can be applied in the high-throughput screening of, for example, enzyme activity or compound libraries. Here we present the OpenMSI Arrayed Analaysis Tool, an iPython based software tool for the analysis of spatially defined samples with MSI.\n",
    "\n",
    "This tutorial Notebook ([name notebook](link to notebook in reposetory)) will demonstrate the basic features of the OpenMSI Arrayed Analaysis Tool, with step by step guidance on how to run the iPython Notebook. A version without markdown is also available ([name notebook](link to notebook in reposetory)). To complete this tutorial, one would need:\n",
    "<ul>\n",
    "<li>iPython/Jupyter. OpenMSI Arrayed Analaysis Tool requires \\iPyhton version .. Further information on iPython/Jupyter can be found at and http://ipython.org/ </li>\n",
    "<li>An OpenMSI account. Users need to get an OpenMSI account in order to use this tool. An OpenMSI account can be obtained through the OpenMSI team and NERSC (https://openmsi.nersc.gov/openmsi/client/omsiAccount) at no cost.</li>\n",
    "</ul>\n",
    "\n",
    "Users don't have to provide a MSI data file. For this tutorial, we have selected the usage of the [name dataset](link to dataset in openmsi) MSI data set (as used in the [manuscript](link to paper), which is publicly available. "
   ]
  },
  {
   "cell_type": "markdown",
   "metadata": {},
   "source": [
    "<h2>How to use this iPython/Jupyter Notebook</h2>\n",
    "*An interactive demo for new users of iPython/Jupyter notebooks can be found at [Nature](http://www.nature.com/news/ipython-interactive-demo-7.21492)*\n",
    "\n",
    "In this tutorial, there are 2 types of content, namely text and code. This content is placed in boxes called \"cells\". If you click around on this page, you'll see different cells highlighted. To execute each cell (regardless of content), you hit on your keyboard SHIFT+ENTER or press the play button. If the cell contains text, the content will be displayed directly. If the cell contains code, the code will be executed. "
   ]
  },
  {
   "cell_type": "markdown",
   "metadata": {},
   "source": [
    "<h2>Loading Arrayed Analysis Tool</h2>\n",
    "Execute the cell below to load the OpenMSI Arrayed Analysis Tool. \n",
    "<p>_--When succesful, the message \"Completed loading OpenMSI Arrayed Analysis Toolkit\" will appear--_"
   ]
  },
  {
   "cell_type": "code",
   "execution_count": 2,
   "metadata": {
    "collapsed": false
   },
   "outputs": [
    {
     "name": "stdout",
     "output_type": "stream",
     "text": [
      "Completed loading OpenMSI Arrayed Analysis Toolkit\n"
     ]
    }
   ],
   "source": [
    "#load the code. Since it's specialized ipython notebook code, use '%run' rather than 'import'\n",
    "%run Arrayed_Analysis_Tools.ipy"
   ]
  },
  {
   "cell_type": "markdown",
   "metadata": {},
   "source": [
    "<h2>Log into OpenMSI</h2>\n",
    "Execute the cell below. When the cell is executed, the user is asked to put in their NERSC/OpenMSI username. \n",
    "<p>After entering their username, the user is asked to put in their NERSC/OpenMSI password. _--If login is succesful, the message \"Login appears to be successful!\" will appear--_<p>\n",
    "<p> __--Log in is not required for this tutorial. However, in order to analysis the users' own files, logging into OpenMSI is required--__"
   ]
  },
  {
   "cell_type": "code",
   "execution_count": 3,
   "metadata": {
    "collapsed": false,
    "scrolled": true
   },
   "outputs": [
    {
     "name": "stdout",
     "output_type": "stream",
     "text": [
      "Login appears to be successful!\n"
     ]
    }
   ],
   "source": [
    "#log into OpenMSI.nersc.gov\n",
    "openMSIsession = login()"
   ]
  },
  {
   "cell_type": "markdown",
   "metadata": {},
   "source": [
    "<h2>File and ion selection</h2>\n",
    "After a successful login, executing the file selector cell will prompt a list of the users available OpenMSI files. _--If not logged into OpenMSI, only the publicly available OpenMSI files will be displayed, including the file used in this tutorial--_\n",
    "<ul>\n",
    "<li> Next, select the file (name file) by clicking on the file name.\n",
    "<li> Then, put in the corresponding Experiment Index and Data Index to the file you want to analysie. For this tutorial, put in '0' for both indexes. \n",
    "<li> Next, provide the m/z values of the ions for analysis. Insert the m/z value in the 'Add an ion' box, and click the 'Add Ion\" button. The value will appear in the box 'Select which ions you want to load'. For the tutorial, add the following m/z values: ...-... \n",
    "<li> Ions can be removed be first clicking on the m/z value in the 'Select which ions you want to load' box and then on the 'Remove Ion' button.\n",
    "<li> Then, put in the value for the integrate at +/- this amount of the inserted m/z values. Users can choose between 'absolute m/z values' or '% of m/z'. For this tutorial select the 'absolute m/z values' and set it at ... .\n",
    "<li> Last, using the given parameters, a base image has to generated. To do this, the user has to click on the 'Load Image!' button. _--After clicking on the 'Load Image!' button, the line \"Loading image... \" will appear. The progress of loading the separate ions will be displayed, in the form of \"loading ion 1 of x. m/z = x\"--_ ___--When loading has completed, the message \"Image has been loaded.\" will appear--___  \n",
    "<ul>"
   ]
  },
  {
   "cell_type": "code",
   "execution_count": 4,
   "metadata": {
    "collapsed": false
   },
   "outputs": [
    {
     "name": "stdout",
     "output_type": "stream",
     "text": [
      "Stored 'arrayed_analysis_default_filename' (unicode)\n",
      "Loading image...\n",
      "loading ion 1 of 3. m/z = 917.500000 +/- 0.500000\n",
      "loading ion 2 of 3. m/z = 1143.000000 +/- 0.500000\n",
      "loading ion 3 of 3. m/z = 1241.000000 +/- 0.500000\n",
      "Image has been loaded.\n",
      "Image has been saved in the global 'img' variable.\n"
     ]
    }
   ],
   "source": [
    "openMSIsession.imageLoader_with_dialogs() #once loaded the image will be stored in the \"img\" variable"
   ]
  },
  {
   "cell_type": "markdown",
   "metadata": {},
   "source": [
    "<h2>Display base image</h2>\n",
    "In order to display the generated base image, execute the cell below. The base image will be displayed in new window. The base image is the ion-intensity vizualization of all selected ions and will be used for mask placement. \n",
    "<p>___--In order to continue with running the next cell in the iPython notebook, the base image figure window has to be closed--___"
   ]
  },
  {
   "cell_type": "code",
   "execution_count": 158,
   "metadata": {
    "collapsed": false
   },
   "outputs": [],
   "source": [
    "plt.imshow(img.baseImage,cmap='jet_r',clim=(0.0,np.amax(img.baseImage)/2)) #get rid of the /2 to see a wider range, or divide\n",
    "                                                                           #by a bigger number if you want a narrower range\n",
    "plt.colorbar()\n",
    "plt.show()"
   ]
  },
  {
   "cell_type": "markdown",
   "metadata": {},
   "source": [
    "<h2>Placing trapezoidal mask</h2>\n",
    "By executing the cell below, a trapezoidal mask containing individual markers will be generated. The size of the trapezoid and the number of markers is determined by number of rows and columns. For this tutorial, generate a trapezoid with # rows and # columns. When the cell is executed, the base image with the trapezoidal mask will be displayed in new window.\n",
    "<p> Then, the trapezoidal mask is roughly placed over the arryaed samples; optimization of positioning of the individual markers will be performed in the next cells. The mask can be moved by dragging the corner markers of the trapezoid (highlighted with red halos) to the prefered position. For this tutorial, place the trapezoidal mask by dragging the corner markers of the trapezoid to the corner samples. Since the top right corner doesn't contain samples, roughly position the top right marker so that the top row and right column markers allign with the samples.\n",
    "<p>__--To continue, the base image figure window has to be closed. The last coordinates of the mask will be stored.--__"
   ]
  },
  {
   "cell_type": "code",
   "execution_count": null,
   "metadata": {
    "collapsed": false
   },
   "outputs": [
    {
     "name": "stdout",
     "output_type": "stream",
     "text": [
      "Number of columns? leave blank for default (\"12\") \n",
      "Number of rows? leave blank for default (\"8\") \n",
      "Stored 'arrayed_analysis_columns' (int)\n",
      "Stored 'arrayed_analysis_rows' (int)\n"
     ]
    }
   ],
   "source": [
    "#define spot centers as a trapezoid.\n",
    "\n",
    "img.roughPosition_with_dialogs()"
   ]
  },
  {
   "cell_type": "markdown",
   "metadata": {},
   "source": [
    "<h2>Automatic spot optimization</h2>\n",
    "By executing the next cell, the iPython notebook will optimze the marker position. For detials on the optimization algorithm, see the method section in the [manuscript](link to paper).\n",
    "<p>_--After executing the cell, the progress of the optimization will be displayed. When optimization is completed, the message \"optimization routine completed. new spot x and y positions saved.\" will appear--_\n",
    "<p>For this tutorial, perform the automatic spot optimization.\n",
    "<p> _--Performing the spot optimization is optional. Individual markers can be positioned manually in the cell 'Displaying optimized markers(s) positioning'--_"
   ]
  },
  {
   "cell_type": "code",
   "execution_count": 166,
   "metadata": {
    "collapsed": false
   },
   "outputs": [],
   "source": [
    "#automagically optimize the spot centers to correspond to the actual spots on the image\n",
    "img.optimizeSpots_with_dialogs()\n"
   ]
  },
  {
   "cell_type": "markdown",
   "metadata": {},
   "source": [
    "<h2>Displaying optimized marker(s) positioning</h2>\n",
    "In order to view the optimized marker postioning, execute the cell below. The base image will be displayed in new window. Individual markers can be moved by dragging the markers to the preferred postion.\n",
    "<p>If no automatic spot optimization was performed, the trapezoidal mask will be at same postion as it was. Still, individual markers can be moved by dragging the markers to the preferred postion.\n",
    "<p>___--In order to continue with running the next cell in the iPython notebook, the base image figure wondow has to be closed. The last coordinates of the mask will be stored--___"
   ]
  },
  {
   "cell_type": "code",
   "execution_count": 1,
   "metadata": {
    "collapsed": false
   },
   "outputs": [
    {
     "ename": "NameError",
     "evalue": "name 'img' is not defined",
     "output_type": "error",
     "traceback": [
      "\u001b[1;31m---------------------------------------------------------------------------\u001b[0m",
      "\u001b[1;31mNameError\u001b[0m                                 Traceback (most recent call last)",
      "\u001b[1;32m<ipython-input-1-5e1d8b087819>\u001b[0m in \u001b[0;36m<module>\u001b[1;34m()\u001b[0m\n\u001b[0;32m      1\u001b[0m \u001b[1;31m#check the positions of the spots and manually adjust them if need be\u001b[0m\u001b[1;33m\u001b[0m\u001b[1;33m\u001b[0m\u001b[0m\n\u001b[1;32m----> 2\u001b[1;33m \u001b[0mimg\u001b[0m\u001b[1;33m.\u001b[0m\u001b[0mfineTunePosition\u001b[0m\u001b[1;33m(\u001b[0m\u001b[0mcolormap\u001b[0m\u001b[1;33m=\u001b[0m\u001b[1;34m'jet_r'\u001b[0m\u001b[1;33m)\u001b[0m\u001b[1;33m\u001b[0m\u001b[0m\n\u001b[0m",
      "\u001b[1;31mNameError\u001b[0m: name 'img' is not defined"
     ]
    }
   ],
   "source": [
    "#check the positions of the spots and manually adjust them if need be\n",
    "img.fineTunePosition(colormap='jet_r')"
   ]
  },
  {
   "cell_type": "markdown",
   "metadata": {},
   "source": [
    "<h2>Saving mask position</h2>\n",
    "If needed, the last coordinates of the mask in the base image can be stored in a 'pickle' file. First, enter a name between the parentheses, replacing name_pickle_file. Then execute the cell to save the file. \n",
    "<p> _--For this tutorial, saving the mask position is not necessary--_"
   ]
  },
  {
   "cell_type": "code",
   "execution_count": 161,
   "metadata": {
    "collapsed": true
   },
   "outputs": [],
   "source": [
    "#Optional: Save the ArrayedImage into a pickle file.\n",
    "import pickle\n",
    "pickle.dump(img, open(\"name_pickle_file\",\"wb\"))"
   ]
  },
  {
   "cell_type": "markdown",
   "metadata": {},
   "source": [
    "<h2>Loading saved mask position</h2>\n",
    "If needed, saved base images with masks can be loaded from a pickle file. First, enter the name of the saved pickle file between the parentheses, replacing name_saved_pickle_file. Then, execute the cell to load the file. \n",
    "<p> _--For this tutorial, no pickle file needs to be loaded--_"
   ]
  },
  {
   "cell_type": "code",
   "execution_count": 164,
   "metadata": {
    "collapsed": false
   },
   "outputs": [
    {
     "name": "stdout",
     "output_type": "stream",
     "text": [
      "ArrayedImage based on /project/projectdirs/openmsi/omsi_data_private/bpb/20120913_nimzyme.h5\n",
      "Ions loaded: [917.5, 1143.0, 1241.0]\n",
      "# of spot locations defined: 96\n",
      "# of spot pixel masks defined: None\n"
     ]
    }
   ],
   "source": [
    "#Optional: Load an ArrayedImage from a pickle file. This way you can work off-line\n",
    "import pickle\n",
    "img=pickle.load(open(\"name_pickle_file\",\"rb\"))\n",
    "print img"
   ]
  },
  {
   "cell_type": "markdown",
   "metadata": {},
   "source": [
    "<h2>Loading function</h2>\n",
    "Execute the cell below, to load and perform function x. The integration radius of the markers can be adjusted. Put in perferred value. For this tutorial, insert x for the integration radius. \n",
    "<p>--After executing the cell, the message \"x spots generated. number of spots with N pixels:{x: x, x: x}\" will appear--_"
   ]
  },
  {
   "cell_type": "code",
   "execution_count": 50,
   "metadata": {
    "collapsed": false
   },
   "outputs": [
    {
     "ename": "TypeError",
     "evalue": "zip argument #1 must support iteration",
     "output_type": "error",
     "traceback": [
      "\u001b[1;31m---------------------------------------------------------------------------\u001b[0m",
      "\u001b[1;31mTypeError\u001b[0m                                 Traceback (most recent call last)",
      "\u001b[1;32m<ipython-input-50-64804e016b3b>\u001b[0m in \u001b[0;36m<module>\u001b[1;34m()\u001b[0m\n\u001b[0;32m      1\u001b[0m \u001b[1;31m#You'll need to call this function. It returns a list of spots (where each spot is a list of pixels),\u001b[0m\u001b[1;33m\u001b[0m\u001b[1;33m\u001b[0m\u001b[0m\n\u001b[0;32m      2\u001b[0m \u001b[1;31m#which is also stored inside the object.\u001b[0m\u001b[1;33m\u001b[0m\u001b[1;33m\u001b[0m\u001b[0m\n\u001b[1;32m----> 3\u001b[1;33m \u001b[0mspots\u001b[0m\u001b[1;33m=\u001b[0m\u001b[0mimg\u001b[0m\u001b[1;33m.\u001b[0m\u001b[0mgenerateSpotList\u001b[0m\u001b[1;33m(\u001b[0m\u001b[0mintegrationRadius\u001b[0m\u001b[1;33m=\u001b[0m\u001b[1;36m2\u001b[0m\u001b[1;33m)\u001b[0m\u001b[1;33m\u001b[0m\u001b[0m\n\u001b[0m",
      "\u001b[1;32m<ipython-input-45-af3be9e187c3>\u001b[0m in \u001b[0;36mgenerateSpotList\u001b[1;34m(self, integrationRadius)\u001b[0m\n\u001b[0;32m    360\u001b[0m         \u001b[0mmyPixels\u001b[0m \u001b[1;33m=\u001b[0m \u001b[1;33m[\u001b[0m\u001b[1;33m]\u001b[0m\u001b[1;33m\u001b[0m\u001b[0m\n\u001b[0;32m    361\u001b[0m         \u001b[0mtallies\u001b[0m\u001b[1;33m=\u001b[0m\u001b[1;33m{\u001b[0m\u001b[1;33m}\u001b[0m\u001b[1;33m\u001b[0m\u001b[0m\n\u001b[1;32m--> 362\u001b[1;33m         \u001b[1;32mfor\u001b[0m \u001b[0mx\u001b[0m\u001b[1;33m,\u001b[0m\u001b[0my\u001b[0m \u001b[1;32min\u001b[0m \u001b[0mzip\u001b[0m\u001b[1;33m(\u001b[0m\u001b[0mself\u001b[0m\u001b[1;33m.\u001b[0m\u001b[0mxCenters\u001b[0m\u001b[1;33m,\u001b[0m\u001b[0mself\u001b[0m\u001b[1;33m.\u001b[0m\u001b[0myCenters\u001b[0m\u001b[1;33m)\u001b[0m\u001b[1;33m:\u001b[0m\u001b[1;33m\u001b[0m\u001b[0m\n\u001b[0m\u001b[0;32m    363\u001b[0m             \u001b[0midx\u001b[0m \u001b[1;33m=\u001b[0m \u001b[0moneSpotMask\u001b[0m\u001b[1;33m(\u001b[0m\u001b[0mxEdges\u001b[0m\u001b[1;33m,\u001b[0m\u001b[0myEdges\u001b[0m\u001b[1;33m,\u001b[0m\u001b[0mx\u001b[0m\u001b[1;33m,\u001b[0m\u001b[0my\u001b[0m\u001b[1;33m,\u001b[0m\u001b[0mintegrationRadius\u001b[0m\u001b[1;33m)\u001b[0m\u001b[1;33m\u001b[0m\u001b[0m\n\u001b[0;32m    364\u001b[0m             \u001b[0mmyPixels\u001b[0m\u001b[1;33m.\u001b[0m\u001b[0mappend\u001b[0m\u001b[1;33m(\u001b[0m\u001b[0midx\u001b[0m\u001b[1;33m)\u001b[0m\u001b[1;33m\u001b[0m\u001b[0m\n",
      "\u001b[1;31mTypeError\u001b[0m: zip argument #1 must support iteration"
     ]
    }
   ],
   "source": [
    "#You'll need to call this function. It returns a list of spots (where each spot is a list of pixels),\n",
    "#which is also stored inside the object.\n",
    "spots=img.generateSpotList(integrationRadius=arrayed_analysis_radius)\n",
    "#this is the same integration radius that you set in the optimization step"
   ]
  },
  {
   "cell_type": "markdown",
   "metadata": {},
   "source": [
    "<h2>Final inspection</h2>\n",
    "A visual representation of the marker size and positioning can be genreated for visiual inspection. To generate the image, execute the cell below. "
   ]
  },
  {
   "cell_type": "code",
   "execution_count": 51,
   "metadata": {
    "collapsed": false
   },
   "outputs": [
    {
     "ename": "ValueError",
     "evalue": "Need to either pass a spot list in the method argument,or have generated a spotList using generateSpotList at some point",
     "output_type": "error",
     "traceback": [
      "\u001b[1;31m---------------------------------------------------------------------------\u001b[0m",
      "\u001b[1;31mValueError\u001b[0m                                Traceback (most recent call last)",
      "\u001b[1;32m<ipython-input-51-a06588187f2c>\u001b[0m in \u001b[0;36m<module>\u001b[1;34m()\u001b[0m\n\u001b[0;32m      1\u001b[0m \u001b[1;31m#Optional: If you want to see a visual respresenation of which pixels are taken into account when\u001b[0m\u001b[1;33m\u001b[0m\u001b[1;33m\u001b[0m\u001b[0m\n\u001b[0;32m      2\u001b[0m \u001b[1;31m#calculating the result table. If you don't pass it an explicit spotList it will use the stored spotList\u001b[0m\u001b[1;33m\u001b[0m\u001b[1;33m\u001b[0m\u001b[0m\n\u001b[1;32m----> 3\u001b[1;33m \u001b[0mmaskedimg\u001b[0m\u001b[1;33m=\u001b[0m\u001b[0mimg\u001b[0m\u001b[1;33m.\u001b[0m\u001b[0mgenerateMaskedImage\u001b[0m\u001b[1;33m(\u001b[0m\u001b[1;33m)\u001b[0m\u001b[1;33m\u001b[0m\u001b[0m\n\u001b[0m\u001b[0;32m      4\u001b[0m \u001b[1;33m\u001b[0m\u001b[0m\n\u001b[0;32m      5\u001b[0m \u001b[0mplt\u001b[0m\u001b[1;33m.\u001b[0m\u001b[0mimshow\u001b[0m\u001b[1;33m(\u001b[0m\u001b[0mmaskedimg\u001b[0m\u001b[1;33m)\u001b[0m\u001b[1;33m\u001b[0m\u001b[0m\n",
      "\u001b[1;32m<ipython-input-45-af3be9e187c3>\u001b[0m in \u001b[0;36mgenerateMaskedImage\u001b[1;34m(self, spotList)\u001b[0m\n\u001b[0;32m    374\u001b[0m             \u001b[1;32mif\u001b[0m \u001b[1;32mnot\u001b[0m \u001b[0mself\u001b[0m\u001b[1;33m.\u001b[0m\u001b[0mspotList\u001b[0m\u001b[1;33m:\u001b[0m\u001b[1;33m\u001b[0m\u001b[0m\n\u001b[0;32m    375\u001b[0m                 raise ValueError(\"Need to either pass a spot list in the method argument,\"+\n\u001b[1;32m--> 376\u001b[1;33m                                  \"or have generated a spotList using generateSpotList at some point\")\n\u001b[0m\u001b[0;32m    377\u001b[0m             \u001b[0mspotList\u001b[0m\u001b[1;33m=\u001b[0m\u001b[0mself\u001b[0m\u001b[1;33m.\u001b[0m\u001b[0mspotList\u001b[0m\u001b[1;33m\u001b[0m\u001b[0m\n\u001b[0;32m    378\u001b[0m \u001b[1;33m\u001b[0m\u001b[0m\n",
      "\u001b[1;31mValueError\u001b[0m: Need to either pass a spot list in the method argument,or have generated a spotList using generateSpotList at some point"
     ]
    }
   ],
   "source": [
    "#Optional: If you want to see a visual respresenation of which pixels are taken into account when\n",
    "#calculating the result table. If you don't pass it an explicit spotList it will use the stored spotList\n",
    "maskedimg=img.generateMaskedImage()\n",
    "\n",
    "plt.imshow(maskedimg)\n",
    "plt.show()"
   ]
  },
  {
   "cell_type": "markdown",
   "metadata": {},
   "source": [
    "<h2>Saving results into .tab file</h2>\n",
    "The next cell is used to save the results of the arrayed analysis tool as a table into a .tab file. First, enter a name between the parentheses, replacing name_file. Keep the .tab extension. Then execute the cell to save the .tab file."
   ]
  },
  {
   "cell_type": "code",
   "execution_count": 113,
   "metadata": {
    "collapsed": false
   },
   "outputs": [
    {
     "name": "stdout",
     "output_type": "stream",
     "text": [
      "Stored 'arrayed_analysis_radius' (int)\n",
      "Stored 'arrayed_analysis_minScore' (int)\n",
      "[1.0, 1.0, 1.0]\n"
     ]
    },
    {
     "ename": "NameError",
     "evalue": "global name 'ionweights' is not defined",
     "output_type": "error",
     "traceback": [
      "\u001b[1;31m---------------------------------------------------------------------------\u001b[0m",
      "\u001b[1;31mNameError\u001b[0m                                 Traceback (most recent call last)",
      "\u001b[1;32m<ipython-input-113-b003b0b9a1ff>\u001b[0m in \u001b[0;36mdo_calculate\u001b[1;34m(widget)\u001b[0m\n\u001b[0;32m     46\u001b[0m     \u001b[0mresults\u001b[0m\u001b[1;33m=\u001b[0m\u001b[1;33m[\u001b[0m\u001b[1;33m]\u001b[0m\u001b[1;33m\u001b[0m\u001b[0m\n\u001b[0;32m     47\u001b[0m     \u001b[1;32mfor\u001b[0m \u001b[0mbox\u001b[0m \u001b[1;32min\u001b[0m \u001b[0mionWeightBoxes\u001b[0m\u001b[1;33m:\u001b[0m\u001b[1;33m\u001b[0m\u001b[0m\n\u001b[1;32m---> 48\u001b[1;33m         \u001b[0mionweights\u001b[0m\u001b[1;33m.\u001b[0m\u001b[0mappend\u001b[0m\u001b[1;33m(\u001b[0m\u001b[0mbox\u001b[0m\u001b[1;33m.\u001b[0m\u001b[0mvalue\u001b[0m\u001b[1;33m)\u001b[0m\u001b[1;33m\u001b[0m\u001b[0m\n\u001b[0m\u001b[0;32m     49\u001b[0m     \u001b[0mxEdges\u001b[0m\u001b[1;33m,\u001b[0m \u001b[0myEdges\u001b[0m \u001b[1;33m=\u001b[0m \u001b[0mnp\u001b[0m\u001b[1;33m.\u001b[0m\u001b[0mmeshgrid\u001b[0m\u001b[1;33m(\u001b[0m\u001b[0mrange\u001b[0m\u001b[1;33m(\u001b[0m\u001b[0mimWidth\u001b[0m\u001b[1;33m)\u001b[0m\u001b[1;33m,\u001b[0m \u001b[0mrange\u001b[0m\u001b[1;33m(\u001b[0m\u001b[0mimHeight\u001b[0m\u001b[1;33m)\u001b[0m\u001b[1;33m,\u001b[0m \u001b[0msparse\u001b[0m\u001b[1;33m=\u001b[0m\u001b[0mFalse\u001b[0m\u001b[1;33m,\u001b[0m \u001b[0mindexing\u001b[0m\u001b[1;33m=\u001b[0m\u001b[1;34m'xy'\u001b[0m\u001b[1;33m)\u001b[0m\u001b[1;33m\u001b[0m\u001b[0m\n\u001b[0;32m     50\u001b[0m     \u001b[1;32mfor\u001b[0m \u001b[0mi\u001b[0m \u001b[1;32min\u001b[0m \u001b[0mrange\u001b[0m\u001b[1;33m(\u001b[0m\u001b[0mnumberOfSpots\u001b[0m\u001b[1;33m)\u001b[0m\u001b[1;33m:\u001b[0m\u001b[1;33m\u001b[0m\u001b[0m\n",
      "\u001b[1;31mNameError\u001b[0m: global name 'ionweights' is not defined"
     ]
    }
   ],
   "source": [
    "        \n",
    "    \n",
    "    \n",
    "            \n",
    "        \n",
    "        "
   ]
  },
  {
   "cell_type": "code",
   "execution_count": 53,
   "metadata": {
    "collapsed": false
   },
   "outputs": [
    {
     "ename": "ValueError",
     "evalue": "Need to either pass a spot list in the method argument,or have generated a spotList using generateSpotList at some point",
     "output_type": "error",
     "traceback": [
      "\u001b[1;31m---------------------------------------------------------------------------\u001b[0m",
      "\u001b[1;31mValueError\u001b[0m                                Traceback (most recent call last)",
      "\u001b[1;32m<ipython-input-53-c63374629250>\u001b[0m in \u001b[0;36m<module>\u001b[1;34m()\u001b[0m\n\u001b[0;32m      2\u001b[0m \u001b[1;31m#Write results to a file\u001b[0m\u001b[1;33m\u001b[0m\u001b[1;33m\u001b[0m\u001b[0m\n\u001b[0;32m      3\u001b[0m \u001b[1;31m#if you don't pass it an explicit spotList it will use the spot set stored in the ArrayedImage\u001b[0m\u001b[1;33m\u001b[0m\u001b[1;33m\u001b[0m\u001b[0m\n\u001b[1;32m----> 4\u001b[1;33m \u001b[0mimg\u001b[0m\u001b[1;33m.\u001b[0m\u001b[0mwriteResultTable\u001b[0m\u001b[1;33m(\u001b[0m\u001b[0mopen\u001b[0m\u001b[1;33m(\u001b[0m\u001b[1;34m'name_file.tab'\u001b[0m\u001b[1;33m,\u001b[0m\u001b[1;34m'wb'\u001b[0m\u001b[1;33m)\u001b[0m\u001b[1;33m)\u001b[0m\u001b[1;33m\u001b[0m\u001b[0m\n\u001b[0m",
      "\u001b[1;32m<ipython-input-45-af3be9e187c3>\u001b[0m in \u001b[0;36mwriteResultTable\u001b[1;34m(self, fileHandler, spotList, minIntensity)\u001b[0m\n\u001b[0;32m    391\u001b[0m             \u001b[1;32mif\u001b[0m \u001b[1;32mnot\u001b[0m \u001b[0mself\u001b[0m\u001b[1;33m.\u001b[0m\u001b[0mspotList\u001b[0m\u001b[1;33m:\u001b[0m\u001b[1;33m\u001b[0m\u001b[0m\n\u001b[0;32m    392\u001b[0m                 raise ValueError(\"Need to either pass a spot list in the method argument,\"+\n\u001b[1;32m--> 393\u001b[1;33m                                  \"or have generated a spotList using generateSpotList at some point\")\n\u001b[0m\u001b[0;32m    394\u001b[0m             \u001b[0mspotList\u001b[0m\u001b[1;33m=\u001b[0m\u001b[0mself\u001b[0m\u001b[1;33m.\u001b[0m\u001b[0mspotList\u001b[0m\u001b[1;33m\u001b[0m\u001b[0m\n\u001b[0;32m    395\u001b[0m \u001b[1;33m\u001b[0m\u001b[0m\n",
      "\u001b[1;31mValueError\u001b[0m: Need to either pass a spot list in the method argument,or have generated a spotList using generateSpotList at some point"
     ]
    }
   ],
   "source": [
    "#Write results to a file\n",
    "#if you don't pass it an explicit spotList it will use the spot set stored in the ArrayedImage\n",
    "img.writeResultTable(open('name_file.tab','wb'))"
   ]
  }
 ],
 "metadata": {
  "kernelspec": {
   "display_name": "Python 2",
   "language": "python",
   "name": "python2"
  },
  "language_info": {
   "codemirror_mode": {
    "name": "ipython",
    "version": 2
   },
   "file_extension": ".py",
   "mimetype": "text/x-python",
   "name": "python",
   "nbconvert_exporter": "python",
   "pygments_lexer": "ipython2",
   "version": "2.7.11"
  }
 },
 "nbformat": 4,
 "nbformat_minor": 0
}
