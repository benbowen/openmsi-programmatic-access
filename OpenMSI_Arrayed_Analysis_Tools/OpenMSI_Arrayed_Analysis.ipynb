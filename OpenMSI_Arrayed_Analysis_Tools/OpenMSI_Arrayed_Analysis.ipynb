{
 "cells": [
  {
   "cell_type": "markdown",
   "metadata": {},
   "source": [
    "<h1>Spotted samples</h1>\n",
    "<h3>Analyze peak intensity for spotted MSI data</h3>"
   ]
  },
  {
   "cell_type": "code",
   "execution_count": null,
   "metadata": {
    "collapsed": false
   },
   "outputs": [],
   "source": [
    "import numpy as np\n",
    "from scipy import interpolate\n",
    "import matplotlib.pyplot as plt\n",
    "import matplotlib.patches as patches\n",
    "import ast\n",
    "import requests, json\n",
    "import Arrayed_Analysis_Tools as aa_tools\n",
    "# plt.get_backend()\n",
    "# plt.switch_backend('Qt4Agg')\n",
    "client = requests.Session()"
   ]
  },
  {
   "cell_type": "markdown",
   "metadata": {},
   "source": [
    "<h1>Authenticate to NERSC</h1>\n",
    "<h3>Put your NERSC username in the quotes below and enter password in the box.  Requires up to date IPython to work</h3>"
   ]
  },
  {
   "cell_type": "code",
   "execution_count": null,
   "metadata": {
    "collapsed": false
   },
   "outputs": [],
   "source": [
    "aa_tools = reload(aa_tools)\n",
    "username = raw_input('Enter your username: ')\n",
    "client = aa_tools.authenticateUser(client,username) # put your username here in the quotes\n",
    "\n",
    "##### Test that we are authenticated #####\n",
    "##### by printing a list of files #####\n",
    "##### you have access to #####\n",
    "myFiles = aa_tools.getFilelist(client)\n",
    "for k in myFiles:\n",
    "    print k\n",
    "##### If you don't see private files. #####\n",
    "##### It didn't authenticate.  #####"
   ]
  },
  {
   "cell_type": "markdown",
   "metadata": {},
   "source": [
    "<h1>Specify the full path to the file you want</h1>\n",
    "<h3>You also have to specify the data and/or ana index</h3>\n",
    "<h3>For multi-experiment files, you have to specify the experiment index</h3>"
   ]
  },
  {
   "cell_type": "code",
   "execution_count": null,
   "metadata": {
    "collapsed": false
   },
   "outputs": [],
   "source": [
    "filename = '/project/projectdirs/openmsi/omsi_data_private/bpb/20120913_nimzyme.h5'\n",
    "# filename = '/project/projectdirs/openmsi/omsi_data_private/joshvh/20151104_GH1_G2.h5'\n",
    "# filename = '/project/projectdirs/openmsi/omsi_data_private/raad0102/20150331MdR_MALDI-NIMS_1.h5'\n",
    "dataIndex = '0'\n",
    "expIndex = '0' ### for single experiment files, the experiment index is zero ###\n",
    "payload = {'file':filename,'format':'JSON','mtype':'file','expIndex':expIndex,'dataIndex':dataIndex}\n",
    "url = 'https://openmsi.nersc.gov/openmsi/qmetadata'\n",
    "r = client.get(url,params=payload)\n",
    "metadata = json.loads(r.content)\n",
    "originalSize = ast.literal_eval(metadata[u'children'][0][u'shape'])\n",
    "print originalSize\n",
    "### prints the [x, y, m/z] of the data cube"
   ]
  },
  {
   "cell_type": "markdown",
   "metadata": {},
   "source": [
    "<h1>Specify the ions for analysis</h1>"
   ]
  },
  {
   "cell_type": "code",
   "execution_count": null,
   "metadata": {
    "collapsed": true
   },
   "outputs": [],
   "source": [
    "myIons = [1241.25, 917.5, 817.6]\n",
    "# myIons = [1102.15, 940, 1102]\n",
    "# myIons = [2093.1, 2465.2, 2867.0, 3494.7, 3657.9, 5735.0]\n",
    "myRange = 0.5 # integrate at +/- this amount"
   ]
  },
  {
   "cell_type": "markdown",
   "metadata": {},
   "source": [
    "<h1>Get the images for each ion of interest</h1>\n",
    "<h3>Change the \"np.sum\" to \"np.max\" for peak height instead of peak area</h3>"
   ]
  },
  {
   "cell_type": "code",
   "execution_count": null,
   "metadata": {
    "collapsed": false
   },
   "outputs": [],
   "source": [
    "mz = aa_tools.getMZ(client,filename,expIndex,dataIndex)\n",
    "imStack = np.zeros((originalSize[0],originalSize[1],len(myIons)))\n",
    "# for each ion in myions, get an image for that ion\n",
    "for i,ion in enumerate(myIons):\n",
    "    idx = np.where(abs(mz-ion)<myRange) #get the m/z indices within myRange\n",
    "    payload = {'file':filename,\n",
    "               'expIndex':expIndex,'dataIndex':dataIndex,'format':'JSON','mz':'%d:%d'%(min(idx[0]),max(idx[0]))}\n",
    "    url = 'https://openmsi.nersc.gov/openmsi/qcube'\n",
    "    r = client.get(url,params=payload)\n",
    "    data = np.asarray(json.loads(r.content))\n",
    "    ### to do: add background subtraction for \"peakless\" data ###\n",
    "#     imStack[:,:,i] = np.sum(data,2) #### Pick this one for peak area\n",
    "    imStack[:,:,i] = np.max(data,2) #### Pick this one for peak height\n",
    "\n",
    "##### SELECT ONE OF THE METHODS BELOW FOR MAKING BASEIMAGE #####\n",
    "##### baseImage is used to make the visualization for placing the markers #####\n",
    "##### 1.  Here baseImage is the sum intensity of all your ion images #####\n",
    "# baseImage = np.sum(imStack,2)  #ALL IONS\n",
    "\n",
    "##### 2.  Here baseImage is a specific ion images #####\n",
    "# baseImage = imStack[:,:,0] #ONE ION\n",
    "\n",
    "##### baseImage is used to make the visualization for placing the markers #####\n",
    "##### 3.  Here baseImage is the sum intensity of specific ion images #####\n",
    "myIdx = [0,1,2]\n",
    "baseImage = np.sum(imStack[:,:,myIdx],2) #SPECIFIC IONS\n",
    "plt.imshow(baseImage,cmap='CMRmap')\n",
    "plt.show()"
   ]
  },
  {
   "cell_type": "markdown",
   "metadata": {},
   "source": [
    "Set the circles where they need to be.  Then close the figure window. The last coordinates of the circles will be stored and you use them to study the interior points of your trapezoid."
   ]
  },
  {
   "cell_type": "code",
   "execution_count": null,
   "metadata": {
    "collapsed": false
   },
   "outputs": [],
   "source": [
    "Nrows = 24\n",
    "Ncols = 16\n",
    "dragRadius = 4\n",
    "pointMarkerSize = 12\n",
    "xCenter,yCenter = aa_tools.roughPosition(baseImage,Nrows,Ncols,dragRadius,pointMarkerSize)"
   ]
  },
  {
   "cell_type": "code",
   "execution_count": null,
   "metadata": {
    "collapsed": false
   },
   "outputs": [],
   "source": [
    "markerRadius = 2\n",
    "xCenter,yCenter = aa_tools.fineTunePosition(baseImage,xCenter,yCenter,markerRadius)"
   ]
  },
  {
   "cell_type": "code",
   "execution_count": null,
   "metadata": {
    "collapsed": false
   },
   "outputs": [],
   "source": [
    "# Save a dictionary into a pickle file.\n",
    "\n",
    "import pickle\n",
    "\n",
    "spotset_data = {'xCenter':xCenter,'yCenter':yCenter,\n",
    "            'Nrows':Nrows,'Ncols':Ncols,\n",
    "            'dragRadius':dragRadius,'pointMarkerSize':pointMarkerSize,'markerRadius':markerRadius,\n",
    "            'baseImage':baseImage,'imStack':imStack,'myIons':myIons,'myRange':myRange,'mz':mz,'originalSize':originalSize,\n",
    "            'filename':filename,'expIndex':expIndex,'dataIndex':dataIndex}\n",
    "\n",
    "pickle.dump( spotset_data, open( \"myWorkspace.pkl\", \"wb\" ) )"
   ]
  },
  {
   "cell_type": "code",
   "execution_count": null,
   "metadata": {
    "collapsed": false
   },
   "outputs": [],
   "source": [
    "# Load the dictionary back from the pickle file.\n",
    "import pickle\n",
    "\n",
    "spotset_data = pickle.load( open( \"myWorkspace.pkl\", \"rb\" ) )\n",
    "for key in spotset_data:\n",
    "    globals()[key]=spotset_data[key]"
   ]
  },
  {
   "cell_type": "code",
   "execution_count": null,
   "metadata": {
    "collapsed": false
   },
   "outputs": [],
   "source": [
    "xEdges, yEdges = np.meshgrid(range(imStack.shape[1]), range(imStack.shape[0]), sparse=False, indexing='xy')\n",
    "mask = np.zeros(baseImage.shape)\n",
    "integrationRadius = 6 #distance to integrate\n",
    "myPixels = []\n",
    "for x,y in zip(xCenter,yCenter):\n",
    "    idx = np.argwhere(((x - xEdges)**2 + (y - yEdges)**2)**0.5 < integrationRadius)\n",
    "    myPixels.append(idx)\n",
    "    for i in idx:\n",
    "        mask[i[0],i[1]] = 1\n",
    "plt.imshow(mask)\n",
    "plt.show()\n",
    "    "
   ]
  },
  {
   "cell_type": "code",
   "execution_count": null,
   "metadata": {
    "collapsed": false
   },
   "outputs": [],
   "source": [
    "minIntensity = 100"
   ]
  },
  {
   "cell_type": "code",
   "execution_count": null,
   "metadata": {
    "collapsed": false
   },
   "outputs": [],
   "source": [
    "fid = open('export.tab','wb')\n",
    "fid.write('index\\tfile\\trow\\tcolumn\\trow-centroid\\tcol-centroid\\t')\n",
    "for i in myIons:\n",
    "    fid.write('%5.4f Sum\\t' % i)\n",
    "    fid.write('%5.4f Max\\t' % i)\n",
    "    fid.write('%5.4f Mean\\t' % i)\n",
    "    fid.write('%5.4f Median\\t' % i)\n",
    "    fid.write('%5.4f NumPixels\\t' % i)\n",
    "fid.write('\\n')\n",
    "\n",
    "for i,myPixel in enumerate(myPixels): #how many spots\n",
    "    fid.write('%d\\t%s\\t%s\\t%s\\t%d\\t%d\\t' % ( i, filename, 'coming_soon', 'coming_soon', np.mean(myPixel[:,0]), np.mean(myPixel[:,1]) ) )\n",
    "    for i,ion in enumerate(myIons): #how many ions\n",
    "        values = []\n",
    "        for j, coord in enumerate(myPixel): #how many pixels per spot\n",
    "            if imStack[coord[0],coord[1],i] > minIntensity:\n",
    "                print imStack[coord[0],coord[1],i]\n",
    "                print coord[0],coord[1],i\n",
    "                #accumulate a list of peak height or \n",
    "                #peak area values for each pixel \n",
    "                #assigned to each spot\n",
    "                values.append(imStack[coord[0],coord[1],i]) \n",
    "        if len(values) > 0:        \n",
    "            fid.write('%d\\t%d\\t%d\\t%d\\t%d\\t' % (np.sum(values),np.max(values),np.mean(values),np.median(values),len(values)))\n",
    "        else:\n",
    "            fid.write('%d\\t%d\\t%d\\t%d\\t%d\\t' % (0,0,0,0,len(values)))\n",
    "        \n",
    "    fid.write('\\n')\n",
    "fid.close()"
   ]
  },
  {
   "cell_type": "code",
   "execution_count": null,
   "metadata": {
    "collapsed": false
   },
   "outputs": [],
   "source": [
    "myPixels"
   ]
  },
  {
   "cell_type": "code",
   "execution_count": null,
   "metadata": {
    "collapsed": true
   },
   "outputs": [],
   "source": []
  }
 ],
 "metadata": {
  "kernelspec": {
   "display_name": "Python 2",
   "language": "python",
   "name": "python2"
  },
  "language_info": {
   "codemirror_mode": {
    "name": "ipython",
    "version": 2
   },
   "file_extension": ".py",
   "mimetype": "text/x-python",
   "name": "python",
   "nbconvert_exporter": "python",
   "pygments_lexer": "ipython2",
   "version": "2.7.10"
  }
 },
 "nbformat": 4,
 "nbformat_minor": 0
}
