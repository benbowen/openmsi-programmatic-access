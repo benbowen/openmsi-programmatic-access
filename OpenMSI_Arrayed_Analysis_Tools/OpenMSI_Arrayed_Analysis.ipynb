{
 "cells": [
  {
   "cell_type": "markdown",
   "metadata": {},
   "source": [
    "<h1>Spotted samples</h1>\n",
    "<h3>Analyze peak intensity for spotted MSI data</h3>"
   ]
  },
  {
   "cell_type": "code",
   "execution_count": null,
   "metadata": {
    "collapsed": false
   },
   "outputs": [],
   "source": [
    "#load the code. Since it's specialized ipython notebook code, use '%run' rather than 'import'\n",
    "%run Arrayed_Analysis_Tools.ipy"
   ]
  },
  {
   "cell_type": "code",
   "execution_count": null,
   "metadata": {
    "collapsed": false,
    "scrolled": true
   },
   "outputs": [],
   "source": [
    "#log into OpenMSI.nersc.gov\n",
    "openMSIsession = login()\n"
   ]
  },
  {
   "cell_type": "code",
   "execution_count": null,
   "metadata": {
    "collapsed": false
   },
   "outputs": [],
   "source": [
    "#show a file selector\n",
    "openMSIsession.fileSelector() #if this is not the last statement of the cell,\n",
    "                              #you'll need to call IPython.display.display() on this"
   ]
  },
  {
   "cell_type": "code",
   "execution_count": null,
   "metadata": {
    "collapsed": false
   },
   "outputs": [],
   "source": [
    "#generates an ArrayedImage from the specificied ions.\n",
    "myIons = [1241.3, 917.45, 1143] #nimzyme\n",
    "\n",
    "img=openMSIsession.getArrayedImage(myIons,0.3,massRangeReductionStrategy=PeakArea())\n",
    "# MassReductionStrategies available right now are PeakArea() PeakHeight() and AreaNearPeak()\n",
    "# PeakArea() is the default\n"
   ]
  },
  {
   "cell_type": "code",
   "execution_count": null,
   "metadata": {
    "collapsed": false
   },
   "outputs": [],
   "source": [
    "#optional: check what the image looks likes now\n",
    "\n",
    "plt.imshow(img.baseImage,cmap='jet_r',clim=(0.0,np.amax(img.baseImage)/2)) #get rid of the /2 to see a wider range, or divide\n",
    "                                                                           #by a bigger number if you want a narrower range\n",
    "plt.colorbar() \n",
    "plt.show()"
   ]
  },
  {
   "cell_type": "code",
   "execution_count": null,
   "metadata": {
    "collapsed": false
   },
   "outputs": [],
   "source": [
    "#define spot centers as a trapezoid.\n",
    "\n",
    "Nrows = 16\n",
    "Ncols = 24\n",
    "\n",
    "img.roughPosition(Nrows,Ncols,colormap='jet_r')"
   ]
  },
  {
   "cell_type": "code",
   "execution_count": null,
   "metadata": {
    "collapsed": false
   },
   "outputs": [],
   "source": [
    "#automagically optimize the spot centers to correspond to the actual spots on the image\n",
    "img.optimizeSpots(verbose=True)\n",
    "\n",
    "#if you don't want spots to move off the grid unless they actually find a spot, set a minimumScore.\n",
    "#(this is useful is there's missing spots from your grid)\n",
    "#if you want to find out what a reasonable number for a minimumScore is, try running the optimization with verbose=True\n",
    "#conversely, if you want to make /sure/ that there is a spot with a score of /at least/ minimumScore,\n",
    "#you can choose to set raiseExceptions=True\n",
    "\n",
    "#img.optimizeSpots(minimumScore=10000,halfboxsize=1) #this command works well for the 20120913_nimzyme.h5 image"
   ]
  },
  {
   "cell_type": "code",
   "execution_count": null,
   "metadata": {
    "collapsed": false
   },
   "outputs": [],
   "source": [
    "#check the positions of the spots and manually adjust them if need be\n",
    "img.fineTunePosition(colormap='jet_r')"
   ]
  },
  {
   "cell_type": "code",
   "execution_count": null,
   "metadata": {
    "collapsed": true
   },
   "outputs": [],
   "source": [
    "#Optional: Save the ArrayedImage into a pickle file.\n",
    "import pickle\n",
    "pickle.dump(img, open(\"saved_image\",\"wb\"))"
   ]
  },
  {
   "cell_type": "code",
   "execution_count": null,
   "metadata": {
    "collapsed": false
   },
   "outputs": [],
   "source": [
    "#Optional: Load an ArrayedImage from a pickle file. This way you can work off-line\n",
    "import pickle\n",
    "img=pickle.load(open(\"saved_image\",\"rb\"))\n",
    "print img"
   ]
  },
  {
   "cell_type": "code",
   "execution_count": null,
   "metadata": {
    "collapsed": false
   },
   "outputs": [],
   "source": [
    "#You'll need to call this function. It returns a list of spots (where each spot is a list of pixels),\n",
    "#which is also stored inside the object.\n",
    "spots=img.generateSpotList(integrationRadius=2)\n"
   ]
  },
  {
   "cell_type": "code",
   "execution_count": null,
   "metadata": {
    "collapsed": false
   },
   "outputs": [],
   "source": [
    "#Optional: If you want to see a visual respresenation of which pixels are taken into account when\n",
    "#calculating the result table. If you don't pass it an explicit spotList it will use the stored spotList\n",
    "maskedimg=img.generateMaskedImage()\n",
    "\n",
    "plt.imshow(maskedimg)\n",
    "plt.show()"
   ]
  },
  {
   "cell_type": "code",
   "execution_count": null,
   "metadata": {
    "collapsed": false
   },
   "outputs": [],
   "source": [
    "#Write results to a file\n",
    "#if you don't pass it an explicit spotList it will use the spot set stored in the ArrayedImage\n",
    "img.writeResultTable(open('export.tab','wb'))"
   ]
  }
 ],
 "metadata": {
  "kernelspec": {
   "display_name": "Python 2",
   "language": "python",
   "name": "python2"
  },
  "language_info": {
   "codemirror_mode": {
    "name": "ipython",
    "version": 2
   },
   "file_extension": ".py",
   "mimetype": "text/x-python",
   "name": "python",
   "nbconvert_exporter": "python",
   "pygments_lexer": "ipython2",
   "version": "2.7.11"
  }
 },
 "nbformat": 4,
 "nbformat_minor": 0
}
