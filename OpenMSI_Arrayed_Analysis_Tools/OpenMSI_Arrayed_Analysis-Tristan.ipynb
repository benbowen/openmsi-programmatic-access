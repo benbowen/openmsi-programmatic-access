{
 "cells": [
  {
   "cell_type": "markdown",
   "metadata": {},
   "source": [
    "<h1>Spotted samples</h1>\n",
    "<h3>Analyze peak intensity for spotted MSI data</h3>"
   ]
  },
  {
   "cell_type": "code",
   "execution_count": null,
   "metadata": {
    "collapsed": false
   },
   "outputs": [],
   "source": [
    "%run Arrayed_Analysis_Tools.ipy"
   ]
  },
  {
   "cell_type": "code",
   "execution_count": null,
   "metadata": {
    "collapsed": false,
    "scrolled": true
   },
   "outputs": [],
   "source": [
    "openMSIsession = login()\n"
   ]
  },
  {
   "cell_type": "code",
   "execution_count": null,
   "metadata": {
    "collapsed": false
   },
   "outputs": [],
   "source": [
    "openMSIsession.fileSelector()\n"
   ]
  },
  {
   "cell_type": "code",
   "execution_count": null,
   "metadata": {
    "collapsed": false
   },
   "outputs": [],
   "source": [
    "myIons = [1241.3, 917.45, 1143] #nimzyme\n",
    "#myIons = [803, 819] #CAEE\n",
    "#myIons = [855, 869,885] #ValHN3\n",
    "\n",
    "img=openMSIsession.getArrayedImage(myIons,0.3,massRangeReductionStrategy=PeakArea())\n",
    "# MassReductionStrategies available right now are PeakArea() PeakHeight() and AreaNearPeak()\n",
    "# PeakArea() is the default\n"
   ]
  },
  {
   "cell_type": "code",
   "execution_count": null,
   "metadata": {
    "collapsed": false
   },
   "outputs": [],
   "source": [
    "plt.imshow(img.baseImage,cmap='jet_r',clim=(0.0,np.amax(img.baseImage)/2)) # get rid of the /2 to see a wider range,\n",
    "                                                #or divide by a bigger number if you want a narrower range\n",
    "plt.colorbar()\n",
    "plt.show()"
   ]
  },
  {
   "cell_type": "code",
   "execution_count": null,
   "metadata": {
    "collapsed": false
   },
   "outputs": [],
   "source": [
    "Nrows = 5\n",
    "Ncols = 5\n",
    "\n",
    "img.roughPosition(Nrows,Ncols,colormap='jet_r')"
   ]
  },
  {
   "cell_type": "code",
   "execution_count": null,
   "metadata": {
    "collapsed": false
   },
   "outputs": [],
   "source": [
    "img.optimizeSpots(verbose=True)\n",
    "#img.optimizeSpots(minimumScore=10000,halfboxsize=1)"
   ]
  },
  {
   "cell_type": "code",
   "execution_count": null,
   "metadata": {
    "collapsed": false
   },
   "outputs": [],
   "source": [
    "img.fineTunePosition(colormap='jet_r')"
   ]
  },
  {
   "cell_type": "code",
   "execution_count": null,
   "metadata": {
    "collapsed": true
   },
   "outputs": [],
   "source": [
    "# Save the ArrayedImage into a pickle file.\n",
    "\n",
    "import pickle\n",
    "pickle.dump(img, open(\"saved_image\",\"wb\"))\n"
   ]
  },
  {
   "cell_type": "code",
   "execution_count": null,
   "metadata": {
    "collapsed": false
   },
   "outputs": [],
   "source": [
    "img=pickle.load(open(\"saved_image\",\"rb\"))"
   ]
  },
  {
   "cell_type": "code",
   "execution_count": null,
   "metadata": {
    "collapsed": false
   },
   "outputs": [],
   "source": []
  },
  {
   "cell_type": "markdown",
   "metadata": {
    "collapsed": true
   },
   "source": [
    "<h3>everything past here still needs to be moved into the Arrayed_Analysis_Tools file</h3>\n",
    "<p>It's not going to work right now because the variables this code references are now encapsulated in classes</p>"
   ]
  },
  {
   "cell_type": "code",
   "execution_count": null,
   "metadata": {
    "collapsed": true
   },
   "outputs": [],
   "source": [
    "xEdges, yEdges = np.meshgrid(range(imStack2.shape[1]), range(imStack2.shape[0]), sparse=False, indexing='xy')\n",
    "mask = np.zeros(baseImage.shape)\n",
    "\n",
    "myPixels = []\n",
    "for x,y in zip(xCenter,yCenter):\n",
    "    idx = oneSpotMask(xEdges,yEdges,x,y)\n",
    "    myPixels.append(idx)\n",
    "    for i in idx:\n",
    "        mask[i[0],i[1]] = 1\n",
    "plt.imshow(mask)\n",
    "plt.show()\n",
    "    "
   ]
  },
  {
   "cell_type": "code",
   "execution_count": null,
   "metadata": {
    "collapsed": true
   },
   "outputs": [],
   "source": [
    "minIntensity = 100\n",
    "\n",
    "fid = open('export.tab','wb')\n",
    "fid.write('index\\tfile\\trow\\tcolumn\\trow-centroid\\tcol-centroid\\t')\n",
    "for i in myIons:\n",
    "    fid.write('%5.4f Sum\\t' % i)\n",
    "    fid.write('%5.4f Max\\t' % i)\n",
    "    fid.write('%5.4f Mean\\t' % i)\n",
    "    fid.write('%5.4f Median\\t' % i)\n",
    "    fid.write('%5.4f NumPixels\\t' % i)\n",
    "fid.write('\\n')\n",
    "\n",
    "for i,myPixel in enumerate(myPixels): #how many spots\n",
    "    fid.write('%d\\t%s\\t%s\\t%s\\t%d\\t%d\\t' % ( i, filename, 'coming_soon', 'coming_soon', np.mean(myPixel[:,0]), np.mean(myPixel[:,1]) ) )\n",
    "    for i,ion in enumerate(myIons): #how many ions\n",
    "        values = []\n",
    "        for j, coord in enumerate(myPixel): #how many pixels per spot\n",
    "            if imStack[coord[0],coord[1],i] > minIntensity:\n",
    "                print imStack[coord[0],coord[1],i]\n",
    "                print coord[0],coord[1],i\n",
    "                #accumulate a list of peak height or \n",
    "                #peak area values for each pixel \n",
    "                #assigned to each spot\n",
    "                values.append(imStack[coord[0],coord[1],i]) \n",
    "        if len(values) > 0:        \n",
    "            fid.write('%d\\t%d\\t%d\\t%d\\t%d\\t' % (np.sum(values),np.max(values),np.mean(values),np.median(values),len(values)))\n",
    "        else:\n",
    "            fid.write('%d\\t%d\\t%d\\t%d\\t%d\\t' % (0,0,0,0,len(values)))\n",
    "        \n",
    "    fid.write('\\n')\n",
    "fid.close()"
   ]
  }
 ],
 "metadata": {
  "kernelspec": {
   "display_name": "Python 2",
   "language": "python",
   "name": "python2"
  },
  "language_info": {
   "codemirror_mode": {
    "name": "ipython",
    "version": 2
   },
   "file_extension": ".py",
   "mimetype": "text/x-python",
   "name": "python",
   "nbconvert_exporter": "python",
   "pygments_lexer": "ipython2",
   "version": "2.7.11"
  }
 },
 "nbformat": 4,
 "nbformat_minor": 0
}
