{
 "metadata": {
  "name": "",
  "signature": "sha256:16e8e39fb9a54e5136a6866b956a7615228c0f673211287c7f9854320ea6e0ee"
 },
 "nbformat": 3,
 "nbformat_minor": 0,
 "worksheets": [
  {
   "cells": [
    {
     "cell_type": "code",
     "collapsed": false,
     "input": [
      "import sys\n",
      "sys.path.append('/Users/bpb/Data/programming/OpenMSI/CodeForgeRepo/openmsi-tk')\n",
      "from omsi.dataformat.omsi_file import *\n",
      "\n",
      "import numpy as np\n",
      "import matplotlib.pyplot as plt\n",
      "import matplotlib.gridspec as gridspec\n",
      "from matplotlib.widgets import Slider\n"
     ],
     "language": "python",
     "metadata": {},
     "outputs": [],
     "prompt_number": 125
    },
    {
     "cell_type": "code",
     "collapsed": false,
     "input": [
      "f = omsi_file('/Users/bpb/Downloads/20120711_Brain.h5' , 'r' )\n",
      "# f = omsi_file('/Users/bpb/20140130_DSD_Peltatum_July19_IMG_format.h5' , 'r' )\n",
      "e = f.get_exp(0) #All data is organized as experiments and this just gets the first one\n",
      "d= e.get_msidata(0) #This gets the omsi_file_msidata object for the first raw dataset \n",
      "print d.shape\n",
      "print d.mz"
     ],
     "language": "python",
     "metadata": {},
     "outputs": [
      {
       "output_type": "stream",
       "stream": "stdout",
       "text": [
        "(122, 120, 80339)\n",
        "[  299.91195679   299.92120361   299.93048096 ...,  1504.78088379\n",
        "  1504.80163574  1504.8223877 ]\n"
       ]
      }
     ],
     "prompt_number": 126
    },
    {
     "cell_type": "code",
     "collapsed": false,
     "input": [
      "viewer = MyViewer(  d , d.mz )\n",
      "plt.show()"
     ],
     "language": "python",
     "metadata": {},
     "outputs": [
      {
       "output_type": "stream",
       "stream": "stdout",
       "text": [
        "Computing max projection of all spectra\n",
        "Initalizing plots"
       ]
      },
      {
       "output_type": "stream",
       "stream": "stdout",
       "text": [
        "\n"
       ]
      },
      {
       "ename": "TypeError",
       "evalue": "int() argument must be a string or a number, not 'NoneType'",
       "output_type": "pyerr",
       "traceback": [
        "\u001b[0;31m---------------------------------------------------------------------------\u001b[0m\n\u001b[0;31mTypeError\u001b[0m                                 Traceback (most recent call last)",
        "\u001b[0;32m/Users/bpb/anaconda/lib/python2.7/site-packages/matplotlib/backend_bases.pyc\u001b[0m in \u001b[0;36mbutton_press_event\u001b[0;34m(self, x, y, button, dblclick, guiEvent)\u001b[0m\n\u001b[1;32m   1783\u001b[0m         mouseevent = MouseEvent(s, self, x, y, button, self._key,\n\u001b[1;32m   1784\u001b[0m                                 dblclick=dblclick, guiEvent=guiEvent)\n\u001b[0;32m-> 1785\u001b[0;31m         \u001b[0mself\u001b[0m\u001b[0;34m.\u001b[0m\u001b[0mcallbacks\u001b[0m\u001b[0;34m.\u001b[0m\u001b[0mprocess\u001b[0m\u001b[0;34m(\u001b[0m\u001b[0ms\u001b[0m\u001b[0;34m,\u001b[0m \u001b[0mmouseevent\u001b[0m\u001b[0;34m)\u001b[0m\u001b[0;34m\u001b[0m\u001b[0m\n\u001b[0m\u001b[1;32m   1786\u001b[0m \u001b[0;34m\u001b[0m\u001b[0m\n\u001b[1;32m   1787\u001b[0m     \u001b[0;32mdef\u001b[0m \u001b[0mbutton_release_event\u001b[0m\u001b[0;34m(\u001b[0m\u001b[0mself\u001b[0m\u001b[0;34m,\u001b[0m \u001b[0mx\u001b[0m\u001b[0;34m,\u001b[0m \u001b[0my\u001b[0m\u001b[0;34m,\u001b[0m \u001b[0mbutton\u001b[0m\u001b[0;34m,\u001b[0m \u001b[0mguiEvent\u001b[0m\u001b[0;34m=\u001b[0m\u001b[0mNone\u001b[0m\u001b[0;34m)\u001b[0m\u001b[0;34m:\u001b[0m\u001b[0;34m\u001b[0m\u001b[0m\n",
        "\u001b[0;32m/Users/bpb/anaconda/lib/python2.7/site-packages/matplotlib/cbook.pyc\u001b[0m in \u001b[0;36mprocess\u001b[0;34m(self, s, *args, **kwargs)\u001b[0m\n\u001b[1;32m    525\u001b[0m                     \u001b[0;32mdel\u001b[0m \u001b[0mself\u001b[0m\u001b[0;34m.\u001b[0m\u001b[0mcallbacks\u001b[0m\u001b[0;34m[\u001b[0m\u001b[0ms\u001b[0m\u001b[0;34m]\u001b[0m\u001b[0;34m[\u001b[0m\u001b[0mcid\u001b[0m\u001b[0;34m]\u001b[0m\u001b[0;34m\u001b[0m\u001b[0m\n\u001b[1;32m    526\u001b[0m                 \u001b[0;32melse\u001b[0m\u001b[0;34m:\u001b[0m\u001b[0;34m\u001b[0m\u001b[0m\n\u001b[0;32m--> 527\u001b[0;31m                     \u001b[0mproxy\u001b[0m\u001b[0;34m(\u001b[0m\u001b[0;34m*\u001b[0m\u001b[0margs\u001b[0m\u001b[0;34m,\u001b[0m \u001b[0;34m**\u001b[0m\u001b[0mkwargs\u001b[0m\u001b[0;34m)\u001b[0m\u001b[0;34m\u001b[0m\u001b[0m\n\u001b[0m\u001b[1;32m    528\u001b[0m \u001b[0;34m\u001b[0m\u001b[0m\n\u001b[1;32m    529\u001b[0m \u001b[0;34m\u001b[0m\u001b[0m\n",
        "\u001b[0;32m/Users/bpb/anaconda/lib/python2.7/site-packages/matplotlib/cbook.pyc\u001b[0m in \u001b[0;36m__call__\u001b[0;34m(self, *args, **kwargs)\u001b[0m\n\u001b[1;32m    403\u001b[0m             \u001b[0mmtd\u001b[0m \u001b[0;34m=\u001b[0m \u001b[0mself\u001b[0m\u001b[0;34m.\u001b[0m\u001b[0mfunc\u001b[0m\u001b[0;34m\u001b[0m\u001b[0m\n\u001b[1;32m    404\u001b[0m         \u001b[0;31m# invoke the callable and return the result\u001b[0m\u001b[0;34m\u001b[0m\u001b[0;34m\u001b[0m\u001b[0m\n\u001b[0;32m--> 405\u001b[0;31m         \u001b[0;32mreturn\u001b[0m \u001b[0mmtd\u001b[0m\u001b[0;34m(\u001b[0m\u001b[0;34m*\u001b[0m\u001b[0margs\u001b[0m\u001b[0;34m,\u001b[0m \u001b[0;34m**\u001b[0m\u001b[0mkwargs\u001b[0m\u001b[0;34m)\u001b[0m\u001b[0;34m\u001b[0m\u001b[0m\n\u001b[0m\u001b[1;32m    406\u001b[0m \u001b[0;34m\u001b[0m\u001b[0m\n\u001b[1;32m    407\u001b[0m     \u001b[0;32mdef\u001b[0m \u001b[0m__eq__\u001b[0m\u001b[0;34m(\u001b[0m\u001b[0mself\u001b[0m\u001b[0;34m,\u001b[0m \u001b[0mother\u001b[0m\u001b[0;34m)\u001b[0m\u001b[0;34m:\u001b[0m\u001b[0;34m\u001b[0m\u001b[0m\n",
        "\u001b[0;32m<ipython-input-127-da8fbe70d324>\u001b[0m in \u001b[0;36m__call__\u001b[0;34m(self, event)\u001b[0m\n\u001b[1;32m     35\u001b[0m         \u001b[0;34m'''Callback function used to update the curve plot when clicking on the image plot'''\u001b[0m\u001b[0;34m\u001b[0m\u001b[0m\n\u001b[1;32m     36\u001b[0m         \u001b[0;31m#         print 'button=%d, x=%d, y=%d, xdata=%f, ydata=%f'%(event.button, event.x, event.y, event.xdata, event.ydata)\u001b[0m\u001b[0;34m\u001b[0m\u001b[0;34m\u001b[0m\u001b[0m\n\u001b[0;32m---> 37\u001b[0;31m         \u001b[0mxloc\u001b[0m \u001b[0;34m=\u001b[0m \u001b[0mint\u001b[0m\u001b[0;34m(\u001b[0m \u001b[0mevent\u001b[0m\u001b[0;34m.\u001b[0m\u001b[0mydata\u001b[0m \u001b[0;34m)\u001b[0m \u001b[0;31m#The x and y axis appear to be switched in the data and image\u001b[0m\u001b[0;34m\u001b[0m\u001b[0m\n\u001b[0m\u001b[1;32m     38\u001b[0m         \u001b[0myloc\u001b[0m \u001b[0;34m=\u001b[0m \u001b[0mint\u001b[0m\u001b[0;34m(\u001b[0m \u001b[0mevent\u001b[0m\u001b[0;34m.\u001b[0m\u001b[0mxdata\u001b[0m \u001b[0;34m)\u001b[0m\u001b[0;34m\u001b[0m\u001b[0m\n\u001b[1;32m     39\u001b[0m \u001b[0;34m\u001b[0m\u001b[0m\n",
        "\u001b[0;31mTypeError\u001b[0m: int() argument must be a string or a number, not 'NoneType'"
       ]
      }
     ],
     "prompt_number": 128
    },
    {
     "cell_type": "code",
     "collapsed": false,
     "input": [
      "class MyViewer : \n",
      "    def __init__(self,  data , mzdata ) :\n",
      "        \"\"\"Create a simple viewer with image of the data and a cruve plot for a spectrum\\\n",
      "           Arguments:\n",
      "           -- data : Reference to the hdf5 dataset of the image\n",
      "           -- mzdata : mz values of the instrument to be displayed as axis in the curve plot. \n",
      "                       may be None in case the mz data is unknown\n",
      "        \"\"\"\n",
      "        # Compute the reference image using the full dataset\n",
      "        print \"Computing max projection of all spectra\"\n",
      "        maxVal = np.max( data[:,:,:500] , axis=2 )\n",
      "        print \"Initalizing plots\"\n",
      "        # Create plot of the physical image\n",
      "        self.hdfdata = data\n",
      "        self.mzdata = mzdata\n",
      "        self.mainFig = plt.figure()\n",
      "        gs = gridspec.GridSpec(1, 2,width_ratios=[1,4])\n",
      "        self.imageFig = self.mainFig.add_subplot(gs[0])\n",
      "        self.imageFig.autoscale(True,'both',tight=True)\n",
      "        self.imageFig.set_axis_off()\n",
      "        self.imagePlot = self.imageFig.pcolor( np.log( maxVal ) ) \n",
      "        self.markerCoord = self.imageFig.scatter(0,0,s=40,marker='o',linewidth='1',edgecolor='w',facecolor='k')\n",
      "        # Create curve plot for a single spectrum         \n",
      "        self.curveFig = self.mainFig.add_subplot(gs[1])\n",
      "        self.curve = self.curveFig.plot( data[0,0,:]   )[0]            \n",
      "        self.curve.set_ydata( data[0,0,:] )\n",
      "\n",
      "        if mzdata is not None :\n",
      "            self.curve.set_xdata( self.mzdata )\n",
      "            self.curveFig.set_xlim( np.min( self.mzdata ) , np.max( self.mzdata) )\n",
      "            self.curveFig.set_xlabel(\"m/z\")\n",
      "        self.imageFig.figure.canvas.mpl_connect( 'button_press_event' , self)\n",
      "        self.imageFig.figure.canvas.mpl_connect('scroll_event', self.onscroll)\n",
      "\n",
      "    def __call__(self, event ):\n",
      "        '''Callback function used to update the curve plot when clicking on the image plot'''\n",
      "        #         print 'button=%d, x=%d, y=%d, xdata=%f, ydata=%f'%(event.button, event.x, event.y, event.xdata, event.ydata)\n",
      "        xloc = int( event.ydata ) #The x and y axis appear to be switched in the data and image\n",
      "        yloc = int( event.xdata )\n",
      "\n",
      "        b = self.imageFig.get_position()\n",
      "        width, height = self.mainFig.canvas.get_width_height()\n",
      "        x1 = b.bounds[0]*width\n",
      "        x2 = b.bounds[2]*width + b.bounds[0]*width\n",
      "        y1 = b.bounds[1]*height\n",
      "        y2 = b.bounds[3]*height + b.bounds[1]*height\n",
      "        if event.x > x1 and event.x < x2 and event.y > y1 and event.y < y2 and xloc < d.shape[0] and yloc < d.shape[1] :\n",
      "            #Load the data for the selected spectrum and update the curve plot\n",
      "            newData = self.hdfdata[ xloc, yloc , :  ]\n",
      "            maxVal = np.max( newData )\n",
      "            self.curve.set_ydata( newData ) \n",
      "            self.curveFig.set_ylim(  0 , maxVal )\n",
      "            self.curve.figure.canvas.draw()\n",
      "            self.markerCoord.remove()\n",
      "            self.markerCoord = self.imageFig.scatter(yloc,xloc,s=40,marker='o',linewidth='1',edgecolor='w',facecolor='k')\n",
      "            self.markerCoord.figure.canvas.draw()\n",
      "\n",
      "        b = self.curveFig.get_position()\n",
      "        x1 = b.bounds[0]*width\n",
      "        x2 = b.bounds[2]*width + b.bounds[0]*width\n",
      "        y1 = b.bounds[1]*height\n",
      "        y2 = b.bounds[3]*height + b.bounds[1]*height\n",
      "        if event.x > x1 and event.x < x2 and event.y > y1 and event.y < y2:\n",
      "            # Load the data for the selected ion and update the imageplot\n",
      "            idx = np.where(abs(self.mzdata-event.xdata)<0.2)[0]\n",
      "            self.imagePlot = self.imageFig.pcolor( np.sum(self.hdfdata[:,:,idx] , axis=2) )\n",
      "            self.curveFig.set_title(event.xdata)\n",
      "            plt.draw()\n",
      "\n",
      "    def onscroll(self, event):\n",
      "        xMin,xMax = self.curveFig.get_xlim()\n",
      "        xRange = xMax - xMin\n",
      "        pL = ( event.xdata - xMin ) / xRange\n",
      " \n",
      "        if event.button=='up':\n",
      "            new_xRange = xRange * 0.8\n",
      "            xChange = xRange - new_xRange\n",
      "            new_xMin = xMin + xChange * pL\n",
      "            new_xMax = xMax - xChange * ( 1 - pL )\n",
      "        else:\n",
      "            new_xRange = xRange * 1.2\n",
      "            xChange = xRange - new_xRange\n",
      "            new_xMin = xMin + xChange * ( 1 - pL )\n",
      "            new_xMax = xMax - xChange * pL\n",
      "\n",
      "        if new_xMin < min(self.mzdata):\n",
      "            new_xMin = min(self.mzdata)\n",
      "        if new_xMax > max(self.mzdata):\n",
      "            new_xMax = max(self.mzdata)\n",
      "        self.curveFig.set_xlim( new_xMin  , new_xMax )\n",
      "        ydata = self.curve.get_ydata()\n",
      "        xdata = self.curve.get_xdata()\n",
      "        idx = np.where( ( xdata >= new_xMin ) & ( xdata <= new_xMax ) )[0]\n",
      "        self.curveFig.set_ylim(  0 , max (ydata[idx]))\n",
      "        self.curve.figure.canvas.draw()\n",
      "        "
     ],
     "language": "python",
     "metadata": {},
     "outputs": [],
     "prompt_number": 127
    },
    {
     "cell_type": "code",
     "collapsed": false,
     "input": [],
     "language": "python",
     "metadata": {},
     "outputs": []
    }
   ],
   "metadata": {}
  }
 ]
}